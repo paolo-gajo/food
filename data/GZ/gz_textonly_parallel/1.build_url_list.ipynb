{
 "cells": [
  {
   "cell_type": "code",
   "execution_count": 3,
   "metadata": {},
   "outputs": [
    {
     "name": "stderr",
     "output_type": "stream",
     "text": [
      "  0%|          | 0/10262 [00:00<?, ?it/s, translation_counter=0]"
     ]
    },
    {
     "name": "stderr",
     "output_type": "stream",
     "text": [
      "10263it [39:28,  4.33it/s, translation_counter=1456]                           \n"
     ]
    }
   ],
   "source": [
    "from bs4 import BeautifulSoup\n",
    "import requests\n",
    "import os\n",
    "\n",
    "def get_translation_link(url):\n",
    "    # Send a request to the URL\n",
    "    response = requests.get(url)\n",
    "\n",
    "    # Check if the request was successful\n",
    "    if response.status_code == 200:\n",
    "        # Parse the HTML content\n",
    "        soup = BeautifulSoup(response.content, 'html.parser')\n",
    "        \n",
    "        # Find the element with class 'gz-translation-link'\n",
    "        translation_link_snippet = soup.find('p', class_='gz-translation-link')\n",
    "        # print(translation_link)\n",
    "        # Check if the element exists and interact with its content\n",
    "        if translation_link_snippet:\n",
    "            # Extract the href attribute of the link\n",
    "            link = translation_link_snippet.find('a', class_='gz-switch-language').get('href')\n",
    "            # Extract the text of the link\n",
    "        else:\n",
    "            link = None\n",
    "    else:\n",
    "        link = None\n",
    "    \n",
    "    return link\n",
    "\n",
    "# go through all dirs in /home/pgajo/working/food/data/gz_textonly_parallel/gf_it\n",
    "# and open title.txt and read the second line, which is the url\n",
    "from tqdm.auto import tqdm\n",
    "url_list = []\n",
    "num_folders = 0\n",
    "translation_counter = 0\n",
    "progressbar = tqdm(os.walk(\"/home/pgajo/working/food/data/gz_textonly_parallel/gf_it\"), total=len(os.listdir(\"/home/pgajo/working/food/data/gz_textonly_parallel/gf_it\")))\n",
    "for root, dirs, files in progressbar:\n",
    "    # num_folders += 1\n",
    "    # if num_folders > 10:\n",
    "    #     break\n",
    "    for name in files:\n",
    "        if name == \"title.txt\":\n",
    "            with open(os.path.join(root, name)) as f:\n",
    "                lines = f.readlines()\n",
    "            url_it = lines[1].strip()\n",
    "            url_en = get_translation_link(url_it)\n",
    "            if url_en is not None:\n",
    "                translation_counter += 1\n",
    "            url_list.append([url_it, url_en])\n",
    "    progressbar.set_postfix({\"translation_counter\": translation_counter})\n",
    "# build dataframe from list\n",
    "import pandas as pd\n",
    "df = pd.DataFrame(url_list, columns=['url_it', 'url_en'])\n",
    "df.to_csv(\"url_list.csv\", index=False)"
   ]
  }
 ],
 "metadata": {
  "kernelspec": {
   "display_name": "food-env",
   "language": "python",
   "name": "python3"
  },
  "language_info": {
   "codemirror_mode": {
    "name": "ipython",
    "version": 3
   },
   "file_extension": ".py",
   "mimetype": "text/x-python",
   "name": "python",
   "nbconvert_exporter": "python",
   "pygments_lexer": "ipython3",
   "version": "3.8.10"
  }
 },
 "nbformat": 4,
 "nbformat_minor": 2
}
