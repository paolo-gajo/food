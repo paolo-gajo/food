{
 "cells": [
  {
   "cell_type": "code",
   "execution_count": 32,
   "metadata": {},
   "outputs": [],
   "source": [
    "from transformers import BertTokenizer, BertForQuestionAnswering\n",
    "import torch\n",
    "# tokenizer = BertTokenizer.from_pretrained('bert-large-uncased-whole-word-masking-finetuned-squad')\n",
    "# model = BertForQuestionAnswering.from_pretrained('bert-large-uncased-whole-word-masking-finetuned-squad').to('cuda')\n",
    "tokenizer = BertTokenizer.from_pretrained('bert-base-uncased')\n",
    "model = BertForQuestionAnswering.from_pretrained('pgajo/bert-base-uncased-squad2').to('cuda')"
   ]
  },
  {
   "cell_type": "code",
   "execution_count": 43,
   "metadata": {},
   "outputs": [
    {
     "name": "stdout",
     "output_type": "stream",
     "text": [
      "When was the Python programming language released?\n",
      "Python is a high-level, interpreted programming language. Its design philosophy emphasizes code readability. Python was created by Guido van Rossum and first released in 1991.\n"
     ]
    },
    {
     "data": {
      "text/plain": [
       "'1991'"
      ]
     },
     "execution_count": 43,
     "metadata": {},
     "output_type": "execute_result"
    }
   ],
   "source": [
    "question_context_pairs = [\n",
    "    {\n",
    "        \"question\": \"Who developed the theory of relativity?\",\n",
    "        \"context\": \"The theory of relativity, developed by Albert Einstein, revolutionized theoretical physics and astronomy during the 20th century.\"\n",
    "    },\n",
    "    {\n",
    "        \"question\": \"What is the capital of France?\",\n",
    "        \"context\": \"France is a country whose territory consists of metropolitan France in Western Europe, as well as several overseas regions and territories. The capital of France is Paris.\"\n",
    "    },\n",
    "    {\n",
    "        \"question\": \"When was the Python programming language released?\",\n",
    "        \"context\": \"Python is a high-level, interpreted programming language. Its design philosophy emphasizes code readability. Python was created by Guido van Rossum and first released in 1991.\"\n",
    "    },\n",
    "    {\n",
    "        \"question\": \"What causes COVID-19?\",\n",
    "        \"context\": \"COVID-19 is an infectious disease caused by the most recently discovered coronavirus. This new virus and disease were unknown before the outbreak began in Wuhan, China, in December 2019.\"\n",
    "    },\n",
    "    {\n",
    "        \"question\": \"Where is the Great Barrier Reef located?\",\n",
    "        \"context\": \"The Great Barrier Reef is the world's largest coral reef system composed of over 2,900 individual reefs and 900 islands stretching for over 2,300 kilometers. The reef is located in the Coral Sea, off the coast of Queensland, Australia.\"\n",
    "    }\n",
    "]\n",
    "\n",
    "# Example of how to access a pair\n",
    "i = 2\n",
    "question = question_context_pairs[i][\"question\"]\n",
    "print(question)\n",
    "context = question_context_pairs[i][\"context\"]\n",
    "print(context)\n",
    "inputs = tokenizer.encode_plus(question, context, add_special_tokens=True, return_tensors=\"pt\").to('cuda')\n",
    "# print(inputs)\n",
    "# print(inputs['input_ids'].shape)\n",
    "outputs = model(**inputs)\n",
    "# print(outputs)\n",
    "# print(outputs.start_logits.argmax())\n",
    "# print(outputs.end_logits.argmax())\n",
    "tokenizer.decode(inputs['input_ids'].squeeze()[outputs.start_logits.argmax():outputs.end_logits.argmax()])"
   ]
  },
  {
   "cell_type": "code",
   "execution_count": null,
   "metadata": {},
   "outputs": [],
   "source": []
  },
  {
   "cell_type": "code",
   "execution_count": null,
   "metadata": {},
   "outputs": [],
   "source": []
  }
 ],
 "metadata": {
  "kernelspec": {
   "display_name": "food-env",
   "language": "python",
   "name": "python3"
  },
  "language_info": {
   "codemirror_mode": {
    "name": "ipython",
    "version": 3
   },
   "file_extension": ".py",
   "mimetype": "text/x-python",
   "name": "python",
   "nbconvert_exporter": "python",
   "pygments_lexer": "ipython3",
   "version": "3.8.10"
  }
 },
 "nbformat": 4,
 "nbformat_minor": 2
}
