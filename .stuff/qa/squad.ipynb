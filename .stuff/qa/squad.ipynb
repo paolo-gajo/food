{
 "cells": [
  {
   "cell_type": "code",
   "execution_count": null,
   "metadata": {},
   "outputs": [],
   "source": [
    "from datasets import load_dataset\n",
    "import torch\n",
    "import pickle\n",
    "\n",
    "dataset = load_dataset(\"squad_v2\")\n",
    "print(dataset)\n",
    "\n",
    "from transformers import AutoTokenizer, AutoModelForQuestionAnswering, AutoModelForSequenceClassification\n",
    "tokenizer = AutoTokenizer.from_pretrained(\"bert-base-uncased\")\n",
    "model = AutoModelForQuestionAnswering.from_pretrained(\"bert-base-uncased\").to('cuda')\n",
    "\n",
    "# read from file\n",
    "# filehandler = open('./squad-v2-berttokenized.obj', 'rb') \n",
    "# dataset = pickle.load(filehandler)\n",
    "\n",
    "def tokenize_function(examples):\n",
    "    return tokenizer(examples['question'], examples['context'], padding = 'max_length')\n",
    "\n",
    "dataset = dataset.map(tokenize_function, batched=True)\n",
    "print(dataset)"
   ]
  },
  {
   "cell_type": "code",
   "execution_count": null,
   "metadata": {},
   "outputs": [],
   "source": [
    "dataset['train'][0]['answers']"
   ]
  },
  {
   "cell_type": "code",
   "execution_count": null,
   "metadata": {},
   "outputs": [],
   "source": [
    "def collate_fn(batch):\n",
    "    # for i, el in enumerate(batch):\n",
    "    #     print(i, el['input_ids'])\n",
    "    batch = {\n",
    "        'input_ids': torch.stack([torch.tensor(el['input_ids']) for el in batch], dim = 0),\n",
    "        'token_type_ids': torch.stack([torch.tensor(el['token_type_ids']) for el in batch], dim = 0),\n",
    "        'attention_mask': torch.stack([torch.tensor(el['attention_mask']) for el in batch], dim = 0),\n",
    "        'labels': torch.stack([torch.tensor(el['a'])], dim = 0)\n",
    "    }\n",
    "    # print(batch)\n",
    "    return batch\n",
    "\n",
    "train = torch.utils.data.DataLoader(\n",
    "    dataset['train'],\n",
    "    batch_size = 4,\n",
    "    collate_fn = collate_fn,\n",
    "    )\n",
    "print(len(train))\n",
    "val = torch.utils.data.DataLoader(\n",
    "    dataset['validation'],\n",
    "    batch_size = 4,\n",
    "    collate_fn = collate_fn\n",
    "    )\n",
    "print(len(val))\n",
    "\n",
    "for batch in train:\n",
    "    print('type(batch)', type(batch))\n",
    "    batch = {\n",
    "        'input_ids': batch['input_ids'].to('cuda'),\n",
    "        'token_type_ids': batch['token_type_ids'].to('cuda'),\n",
    "        'attention_mask': batch['attention_mask'].to('cuda'),\n",
    "    }\n",
    "    # input_ids = torch.stack(batch['input_ids'], dim = 1)\n",
    "    # token_type_ids = torch.stack(batch['token_type_ids'], dim = 1)\n",
    "    # attention_mask = torch.stack(batch['attention_mask'], dim = 1)\n",
    "\n",
    "    # batch = {'input_ids': input_ids,\n",
    "    #          'token_type_ids': token_type_ids,\n",
    "    #          'attention_mask': attention_mask}.to('cuda')\n",
    "\n",
    "    with torch.inference_mode():\n",
    "        outputs = model(**batch)\n",
    "    print(outputs)\n",
    "    # Rest of your code\n",
    "\n",
    "    # break  # Break the loop after the first batch"
   ]
  },
  {
   "cell_type": "code",
   "execution_count": null,
   "metadata": {},
   "outputs": [],
   "source": []
  }
 ],
 "metadata": {
  "kernelspec": {
   "display_name": "food-env",
   "language": "python",
   "name": "python3"
  },
  "language_info": {
   "codemirror_mode": {
    "name": "ipython",
    "version": 3
   },
   "file_extension": ".py",
   "mimetype": "text/x-python",
   "name": "python",
   "nbconvert_exporter": "python",
   "pygments_lexer": "ipython3",
   "version": "3.8.10"
  }
 },
 "nbformat": 4,
 "nbformat_minor": 2
}
