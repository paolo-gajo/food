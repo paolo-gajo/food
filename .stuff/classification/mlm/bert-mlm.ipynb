{
 "cells": [
  {
   "cell_type": "code",
   "execution_count": 25,
   "metadata": {},
   "outputs": [],
   "source": [
    "from transformers import BertConfig, BertModel\n",
    "\n",
    "# Define the configuration\n",
    "config = BertConfig(\n",
    "  vocab_size=1000,\n",
    "  hidden_size=1024,\n",
    "  num_attention_heads=1,\n",
    "  num_hidden_layers=1,\n",
    "  intermediate_size=3072,\n",
    "  hidden_dropout_prob=0.1,\n",
    "  attention_probs_dropout_prob=0.1\n",
    ")\n",
    "\n",
    "# Instantiate model\n",
    "model = BertModel(config)"
   ]
  },
  {
   "cell_type": "code",
   "execution_count": 26,
   "metadata": {},
   "outputs": [
    {
     "name": "stdout",
     "output_type": "stream",
     "text": [
      "The model has 13,100,032 total parameters.\n",
      "The model has 13,100,032 trainable parameters.\n"
     ]
    }
   ],
   "source": [
    "# Count number of parameters (trainable and non-trainable)\n",
    "def count_parameters(model):\n",
    "    return sum(p.numel() for p in model.parameters()), sum(p.numel() for p in model.parameters() if p.requires_grad)\n",
    "\n",
    "# Print the number of parameters\n",
    "total_params, trainable_params = count_parameters(model)\n",
    "print(f\"The model has {total_params:,} total parameters.\")\n",
    "print(f\"The model has {trainable_params:,} trainable parameters.\")"
   ]
  },
  {
   "cell_type": "code",
   "execution_count": null,
   "metadata": {},
   "outputs": [],
   "source": []
  }
 ],
 "metadata": {
  "kernelspec": {
   "display_name": "pgajo-Fz_qUQZq",
   "language": "python",
   "name": "python3"
  },
  "language_info": {
   "codemirror_mode": {
    "name": "ipython",
    "version": 3
   },
   "file_extension": ".py",
   "mimetype": "text/x-python",
   "name": "python",
   "nbconvert_exporter": "python",
   "pygments_lexer": "ipython3",
   "version": "3.8.10"
  }
 },
 "nbformat": 4,
 "nbformat_minor": 2
}
