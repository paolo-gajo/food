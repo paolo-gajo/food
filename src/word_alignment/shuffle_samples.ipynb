{
 "cells": [
  {
   "cell_type": "code",
   "execution_count": 180,
   "metadata": {},
   "outputs": [
    {
     "name": "stdout",
     "output_type": "stream",
     "text": [
      "700\n"
     ]
    }
   ],
   "source": [
    "import json\n",
    "with open('/home/pgajo/working/food/data/TASTEset/data/entity-wise/EW-TASTE_en-it_DEEPL.json') as f:\n",
    "    data = json.load(f)\n",
    "recipe_list = data['annotations']\n",
    "print(len(recipe_list))\n",
    "import copy\n",
    "sample = copy.deepcopy(recipe_list[5])\n",
    "import random\n",
    "def shuffle_entities(sample):\n",
    "    shuffled_sample = []\n",
    "    sample_old = copy.deepcopy(sample)\n",
    "    print(sample_old['entities_en'])\n",
    "    dict_ent = {}\n",
    "    for i, el in enumerate(sample_old['entities_en']):\n",
    "        # print(i, el)\n",
    "        if el[2] not in dict_ent.keys():\n",
    "            dict_ent[el[2]] = 1\n",
    "        else:\n",
    "            dict_ent[el[2]] += 1\n",
    "    print(dict_ent)\n",
    "    indexes = [i for i in range(len(sample_old['entities_en']))]\n",
    "    random.shuffle(indexes)\n",
    "    print(indexes)\n",
    "    blanks = []\n",
    "    for i in range(len(sample['entities_en'])-1):\n",
    "        end_prev = sample['entities_en'][i][1]\n",
    "        start_foll = sample['entities_en'][i+1][0]\n",
    "        blanks.append([end_prev, start_foll, 'BLANK'])\n",
    "    ent_start = 0\n",
    "    for new, old in enumerate(indexes):\n",
    "        tmp_ent_en = sample_old['entities_en'][old]\n",
    "        len_text_tmp_ent_en = sample_old['text_en'][sample_old['entities_en'][old][0]:sample_old['entities_en'][old][1]]\n",
    "        tmp_ent_en[0] = ent_start\n",
    "        tmp_ent_en[1] = tmp_ent_en[0] + len((len_text_tmp_ent_en))\n",
    "        tmp_ent_en[2] = sample_old['entities_en'][new][2]\n",
    "        \n",
    "        if len(blanks) > 0:\n",
    "            next_blank = blanks.pop(0)\n",
    "            ent_start += next_blank[1] - next_blank[0]\n",
    "        else:\n",
    "            pass\n",
    "\n",
    "        shuffled_sample.append(tmp_ent_en)\n",
    "    return shuffled_sample\n",
    "\n",
    "shuffled_sample = shuffle_entities(sample)\n",
    "dict_ent = {}\n",
    "for i, el in enumerate(shuffled_sample):\n",
    "    # print(i, el)\n",
    "    if el[2] not in dict_ent.keys():\n",
    "        dict_ent[el[2]] = 1\n",
    "    else:\n",
    "        dict_ent[el[2]] += 1\n",
    "print(dict_ent)"
   ]
  },
  {
   "cell_type": "code",
   "execution_count": 206,
   "metadata": {},
   "outputs": [
    {
     "data": {
      "text/plain": [
       "'hello'"
      ]
     },
     "execution_count": 206,
     "metadata": {},
     "output_type": "execute_result"
    }
   ],
   "source": [
    "['hello', 'lol'].pop(0)"
   ]
  }
 ],
 "metadata": {
  "kernelspec": {
   "display_name": "food-env",
   "language": "python",
   "name": "python3"
  },
  "language_info": {
   "codemirror_mode": {
    "name": "ipython",
    "version": 3
   },
   "file_extension": ".py",
   "mimetype": "text/x-python",
   "name": "python",
   "nbconvert_exporter": "python",
   "pygments_lexer": "ipython3",
   "version": "3.8.10"
  }
 },
 "nbformat": 4,
 "nbformat_minor": 2
}
