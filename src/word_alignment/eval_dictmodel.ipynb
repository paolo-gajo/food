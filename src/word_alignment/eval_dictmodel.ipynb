{
 "cells": [
  {
   "cell_type": "code",
   "execution_count": 1,
   "metadata": {},
   "outputs": [
    {
     "name": "stderr",
     "output_type": "stream",
     "text": [
      "/home/pgajo/working/food/.o/lib/python3.8/site-packages/tqdm/auto.py:21: TqdmWarning: IProgress not found. Please update jupyter and ipywidgets. See https://ipywidgets.readthedocs.io/en/stable/user_install.html\n",
      "  from .autonotebook import tqdm as notebook_tqdm\n"
     ]
    }
   ],
   "source": [
    "import os\n",
    "from tqdm.auto import tqdm\n",
    "from evaluate import load\n",
    "from utils import TASTEset\n",
    "import pandas as pd\n",
    "import json\n",
    "\n",
    "data_repo = 'pgajo/mdeberta_GZ-GOLD-NER-ALIGN_105_U1_S0_DROP0'\n",
    "data = TASTEset.from_datasetdict(data_repo, keep_raw = True)\n",
    "\n",
    "ew_taste_path = '/home/pgajo/working/food/data/TASTEset/data/EW-TASTE/EW-TASTE_en-it_DEEPL_LOC.json'\n",
    "\n",
    "with open(ew_taste_path, 'r', encoding='utf8') as f:\n",
    "    train_data = json.load(f)"
   ]
  },
  {
   "cell_type": "code",
   "execution_count": 2,
   "metadata": {},
   "outputs": [],
   "source": [
    "train_dict = {}\n",
    "\n",
    "for line in train_data['annotations']:\n",
    "    for i in range(len(line['ents_en'])):\n",
    "        ent_en = line['text_en'][line['ents_en'][i][0]:line['ents_en'][i][1]]\n",
    "        ent_it = line['text_it'][line['ents_it'][i][0]:line['ents_it'][i][1]]\n",
    "        train_dict[ent_en.lower()] = ent_it.lower()"
   ]
  },
  {
   "cell_type": "code",
   "execution_count": 3,
   "metadata": {},
   "outputs": [],
   "source": [
    "from evaluate import load\n",
    "squad_metric_evaluate = load(\"squad_v2\")"
   ]
  },
  {
   "cell_type": "code",
   "execution_count": 4,
   "metadata": {},
   "outputs": [
    {
     "data": {
      "text/plain": [
       "{'exact': 27.149777957206297,\n",
       " 'f1': 27.25070649979814,\n",
       " 'total': 4954,\n",
       " 'HasAns_exact': 27.149777957206297,\n",
       " 'HasAns_f1': 27.25070649979814,\n",
       " 'HasAns_total': 4954,\n",
       " 'best_exact': 27.149777957206297,\n",
       " 'best_exact_thresh': 0.0,\n",
       " 'best_f1': 27.25070649979814,\n",
       " 'best_f1_thresh': 0.0}"
      ]
     },
     "execution_count": 4,
     "metadata": {},
     "output_type": "execute_result"
    }
   ],
   "source": [
    "import re\n",
    "import uuid\n",
    "preds = []\n",
    "trues = []\n",
    "en_pattern = re.compile(r'(?<=\\•\\s).*(?=\\s\\•)')\n",
    "for el in data['test']:\n",
    "    # print(data['test'][0]['context'].lower())\n",
    "    id = str(uuid.uuid4())\n",
    "    en = re.search(en_pattern, el['query']).group()\n",
    "    try:\n",
    "        it_pattern = re.compile(train_dict[en.lower()])\n",
    "        # print(en.lower(), it_pattern)\n",
    "        answer = re.search(it_pattern, data['test'][0]['context'].lower())\n",
    "        if answer is None:\n",
    "            answer = ''\n",
    "        else:\n",
    "            answer = answer.group()\n",
    "    except KeyError:\n",
    "        answer = ''\n",
    "    \n",
    "    dict_pred = {\n",
    "            'prediction_text': answer,\n",
    "            'id': id,\n",
    "            'no_answer_probability': 0\n",
    "        }\n",
    "    preds.append(dict_pred)\n",
    "    dict_true = {\n",
    "    'answers': {\n",
    "        'answer_start': [int(el['answer_start'])],\n",
    "        'text': [el['answer'].lower()],\n",
    "        },\n",
    "        'id': id\n",
    "    }\n",
    "    trues.append(dict_true)\n",
    "\n",
    "metrics_dict = squad_metric_evaluate.compute(predictions=preds, references=trues)\n",
    "metrics_dict"
   ]
  },
  {
   "cell_type": "code",
   "execution_count": 8,
   "metadata": {},
   "outputs": [],
   "source": [
    "results_path = '/home/pgajo/working/food/results'\n",
    "model_results_path = os.path.join(results_path, data_repo.split('/')[-1])\n",
    "if not os.path.isdir(model_results_path):\n",
    "    os.makedirs(model_results_path)\n",
    "import pandas as pd\n",
    "\n",
    "df_metrics = pd.DataFrame(metrics_dict, ['Value']).T\n",
    "model_name = 'TASTEset_dict_model'\n",
    "df_metrics.to_csv(os.path.join(model_results_path, model_name))"
   ]
  },
  {
   "cell_type": "code",
   "execution_count": null,
   "metadata": {},
   "outputs": [],
   "source": [
    "import re\n",
    "en_pattern_raw = r'(?<=\\•\\s).*(?=\\s\\•)'\n",
    "en_pattern = re.compile(en_pattern_raw)\n",
    "en = re.search(en_pattern, data['test'][0]['query']).group()\n",
    "print(en)\n",
    "it = train_dict[en.lower()]\n",
    "it_pattern = re.compile(it)\n",
    "answer = re.search(it_pattern, data['test'][0]['context'].lower())\n",
    "answer\n"
   ]
  },
  {
   "cell_type": "code",
   "execution_count": null,
   "metadata": {},
   "outputs": [],
   "source": [
    "from evaluate import load\n",
    "squad_metric_evaluate = load(\"squad_v2\")\n",
    "squad_metric_evaluate.compute(predictions=self.preds[split], references=self.trues[split])['f1']"
   ]
  },
  {
   "cell_type": "code",
   "execution_count": null,
   "metadata": {},
   "outputs": [],
   "source": [
    "def get_eval_batch(self, model_outputs, batch, split):\n",
    "        self.split = split\n",
    "        start_preds = torch.argmax(model_outputs['start_logits'], dim=1)\n",
    "        end_preds = torch.argmax(model_outputs['end_logits'], dim=1)\n",
    "        pred_batch = [el for el in zip(start_preds.tolist(),\n",
    "                                       end_preds.tolist())]\n",
    "        true_batch = [el for el in zip(batch[\"start_positions\"].tolist(),\n",
    "                                       batch[\"end_positions\"].tolist())]\n",
    "        pred_batch_ids = [str(uuid.uuid4()) for i in range(len(start_preds))]\n",
    "\n",
    "        for i, pair in enumerate(pred_batch):\n",
    "            if pair[0] >= pair[1]:\n",
    "                text_pred = ''\n",
    "            else:\n",
    "                text_pred = self.tokenizer.decode(batch['input_ids'][i][pair[0]:pair[1]])\n",
    "                if not isinstance(text_pred, str):\n",
    "                    text_pred = ''\n",
    "            dict_pred = {\n",
    "                'prediction_text': text_pred,\n",
    "                'id': pred_batch_ids[i],\n",
    "                'no_answer_probability': 0\n",
    "            }\n",
    "\n",
    "        for i, pair in enumerate(true_batch):\n",
    "            text_true = self.tokenizer.decode(\n",
    "                batch['input_ids'][i][pair[0]:pair[1]])\n",
    "            dict_true = {\n",
    "                'answers': {\n",
    "                    'answer_start': [true_batch[0][0]],\n",
    "                    'text': [text_true],\n",
    "                    },\n",
    "                    'id': pred_batch_ids[i]\n",
    "                }\n",
    "\n",
    "        self.preds[split].append(dict_pred)\n",
    "        self.trues[split].append(dict_true)"
   ]
  },
  {
   "cell_type": "code",
   "execution_count": null,
   "metadata": {},
   "outputs": [],
   "source": [
    "for line in data:\n",
    "    "
   ]
  }
 ],
 "metadata": {
  "kernelspec": {
   "display_name": ".o",
   "language": "python",
   "name": "python3"
  },
  "language_info": {
   "codemirror_mode": {
    "name": "ipython",
    "version": 3
   },
   "file_extension": ".py",
   "mimetype": "text/x-python",
   "name": "python",
   "nbconvert_exporter": "python",
   "pygments_lexer": "ipython3",
   "version": "3.8.10"
  }
 },
 "nbformat": 4,
 "nbformat_minor": 2
}
