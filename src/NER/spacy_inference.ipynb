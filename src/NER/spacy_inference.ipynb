{
  "cells": [
    {
      "cell_type": "markdown",
      "metadata": {
        "id": "NCiKVxbf_x8y"
      },
      "source": [
        "## Inference"
      ]
    },
    {
      "cell_type": "code",
      "execution_count": 3,
      "metadata": {
        "colab": {
          "base_uri": "https://localhost:8080/"
        },
        "id": "N9THhIHxmGhI",
        "outputId": "235cd389-0c7b-4291-a4ce-33b9b26df59d"
      },
      "outputs": [
        {
          "name": "stdout",
          "output_type": "stream",
          "text": [
            "Pecan Sour Cream Coffee Cake\n",
            "\t 1.5 cups pecans, finely chopped\n",
            "\t 0.33333334326744 cup white sugar\n",
            "\t 0.33333334326744 cup packed light brown sugar\n",
            "\t 3 tablespoons melted butter\n",
            "\t 1 teaspoon cinnamon\n",
            "\t 0.125 teaspoon salt\n",
            "\t 1.875 cups all-purpose flour\n",
            "\t 1 teaspoon baking powder\n",
            "\t 0.75 teaspoon baking soda\n",
            "\t 0.5 teaspoon fine sea salt\n",
            "\t 1 cup white sugar\n",
            "\t 0.5 cup unsalted butter, softened\n",
            "\t 2 large eggs\n",
            "\t 1 cup sour cream or creme fraiche\n",
            "\t 1.5 teaspoons vanilla extract\n",
            "Polpette alla cacciatora\n",
            "\t Macinato di vitello 500 g\n",
            "\t Pangrattato 100 g\n",
            "\t Grana Padano DOP (da grattugiare) 40 g\n",
            "\t Uova 3\n",
            "\t Latte intero 50 g\n",
            "\t Aglio 1 spicchio\n",
            "\t Prezzemolo (da tritare) q.b.\n",
            "\t Sale fino q.b.\n",
            "\t Passata di pomodoro 500 g\n",
            "\t Cipolle 1\n",
            "\t Carote 1\n",
            "\t Sedano ½ costa\n",
            "\t Vino rosso 50 g\n",
            "\t Rosmarino 1 rametto\n",
            "\t Olio extravergine d'oliva q.b.\n",
            "\t Sale fino q.b.\n",
            "\t Pepe nero q.b.\n"
          ]
        }
      ],
      "source": [
        "from recipe_scrapers import scrape_me\n",
        "\n",
        "recipe_url_en = \"https://www.allrecipes.com/recipe/246868/pecan-sour-cream-coffee-cake/\"\n",
        "recipe_url_it = \"https://ricette.giallozafferano.it/Polpette-alla-cacciatora.html\"\n",
        "recipe_url_es_1 = \"https://mahatmarice.com/es/recetas/autentica-paella-espanola-con-marisco/\" # doesn't work because the recipe scraper only works with a fixed number of websites\n",
        "recipe_url_es_2 = \"https://www.comedera.com/como-hacer-paella-de-marisco/\" # doesn't work because the recipe scraper only works with a fixed number of websites\n",
        "\n",
        "\n",
        "scraper_en = scrape_me(recipe_url_en)\n",
        "ingredient_list_en = scraper_en.ingredients()\n",
        "scraper_it = scrape_me(recipe_url_it)\n",
        "ingredient_list_it = scraper_it.ingredients()\n",
        "print(scraper_en.title())\n",
        "for ingredient in ingredient_list_en:\n",
        "    print('\\t', ingredient)\n",
        "print(scraper_it.title())\n",
        "for ingredient in ingredient_list_it:\n",
        "    print('\\t', ingredient)"
      ]
    },
    {
      "cell_type": "markdown",
      "metadata": {
        "id": "dsxu4HGxWBpQ"
      },
      "source": [
        "### Text Pre-Processing Function\n",
        "\n",
        "Note the float representations of ingredient quantities, in spite of the fact that the website shows them in mixed numbers."
      ]
    },
    {
      "cell_type": "code",
      "execution_count": 4,
      "metadata": {
        "id": "3ES2pKiK0NOE"
      },
      "outputs": [],
      "source": [
        "from fractions import Fraction\n",
        "import re\n",
        "\n",
        "\n",
        "def fraction_to_mixed_number(fraction: Fraction) -> str:\n",
        "  if fraction.numerator >= fraction.denominator:\n",
        "    whole, remainder = divmod(fraction.numerator, fraction.denominator)\n",
        "    if remainder == 0:\n",
        "      return str(whole)\n",
        "    else:\n",
        "      return f\"{whole} {Fraction(remainder, fraction.denominator)}\"\n",
        "  else:\n",
        "    return str(fraction)\n",
        "\n",
        "\n",
        "def convert_floats_to_fractions(text: str) -> str:\n",
        "    return re.sub(\n",
        "        r'\\b-?\\d+\\.\\d+\\b',\n",
        "        lambda match: fraction_to_mixed_number(\n",
        "            Fraction(float(match.group())).limit_denominator()), text\n",
        "        )\n",
        "\n",
        "\n",
        "def process_text(text, model):\n",
        "  \"\"\"\n",
        "  A wrapper function to pre-process text and run it through our pipeline.\n",
        "  \"\"\"\n",
        "  return model(convert_floats_to_fractions(text))"
      ]
    },
    {
      "cell_type": "code",
      "execution_count": 5,
      "metadata": {
        "colab": {
          "base_uri": "https://localhost:8080/"
        },
        "id": "I1IbSIiFycKI",
        "outputId": "60fb0cff-4b40-4d7a-e6f1-719259aba42e"
      },
      "outputs": [
        {
          "name": "stdout",
          "output_type": "stream",
          "text": [
            "['1 1/2 cups pecans, finely chopped', '1/3 cup white sugar', '1/3 cup packed light brown sugar', '3 tablespoons melted butter', '1 teaspoon cinnamon', '1/8 teaspoon salt', '1 7/8 cups all-purpose flour', '1 teaspoon baking powder', '3/4 teaspoon baking soda', '1/2 teaspoon fine sea salt', '1 cup white sugar', '1/2 cup unsalted butter, softened', '2 large eggs', '1 cup sour cream or creme fraiche', '1 1/2 teaspoons vanilla extract']\n",
            "['Macinato di vitello 500 g', 'Pangrattato 100 g', 'Grana Padano DOP (da grattugiare) 40 g', 'Uova 3', 'Latte intero 50 g', 'Aglio 1 spicchio', 'Prezzemolo (da tritare) q.b.', 'Sale fino q.b.', 'Passata di pomodoro 500 g', 'Cipolle 1', 'Carote 1', 'Sedano ½ costa', 'Vino rosso 50 g', 'Rosmarino 1 rametto', \"Olio extravergine d'oliva q.b.\", 'Sale fino q.b.', 'Pepe nero q.b.']\n"
          ]
        }
      ],
      "source": [
        "# Let's have a look at our processing fucntion at work\n",
        "ingredient_list_en = [convert_floats_to_fractions(line) for line in scraper_en.ingredients()]\n",
        "ingredient_list_it = [convert_floats_to_fractions(line) for line in scraper_it.ingredients()]\n",
        "print(ingredient_list_en)\n",
        "print(ingredient_list_it)"
      ]
    },
    {
      "cell_type": "markdown",
      "metadata": {
        "id": "g6rbxA_fXPnE"
      },
      "source": [
        "### Running Inference with Processing"
      ]
    },
    {
      "cell_type": "code",
      "execution_count": 6,
      "metadata": {},
      "outputs": [
        {
          "name": "stderr",
          "output_type": "stream",
          "text": [
            "/home/pgajo/working/food/food-env/lib/python3.8/site-packages/torch/cuda/__init__.py:611: UserWarning: Can't initialize NVML\n",
            "  warnings.warn(\"Can't initialize NVML\")\n"
          ]
        }
      ],
      "source": [
        "import spacy"
      ]
    },
    {
      "cell_type": "code",
      "execution_count": 7,
      "metadata": {
        "id": "hJHRbPaAXPBM"
      },
      "outputs": [
        {
          "name": "stderr",
          "output_type": "stream",
          "text": [
            "/home/pgajo/working/food/food-env/lib/python3.8/site-packages/tqdm/auto.py:21: TqdmWarning: IProgress not found. Please update jupyter and ipywidgets. See https://ipywidgets.readthedocs.io/en/stable/user_install.html\n",
            "  from .autonotebook import tqdm as notebook_tqdm\n",
            "Special tokens have been added in the vocabulary, make sure the associated word embeddings are fine-tuned or trained.\n"
          ]
        }
      ],
      "source": [
        "# Load the model again for good measure\n",
        "# nlp_cpu = spacy.load('/home/pgajo/working/food/TASTEset/output_eff_cpu/model-best')\n",
        "nlp_roberta = spacy.load('/home/pgajo/working/food/TASTEset/output_transformer_0/model-best')"
      ]
    },
    {
      "cell_type": "code",
      "execution_count": 9,
      "metadata": {},
      "outputs": [
        {
          "name": "stdout",
          "output_type": "stream",
          "text": [
            "1 1/2 cups pecans, finely chopped\n",
            "(1 1/2, cups, pecans, finely chopped)\n",
            "1 1/2 0 5 QUANTITY\n",
            "cups 6 10 UNIT\n",
            "pecans 11 17 FOOD\n",
            "finely chopped 19 33 PROCESS\n",
            "\n",
            "Macinato di vitello 500 g\n",
            "(500, g)\n",
            "500 20 23 QUANTITY\n",
            "g 24 25 UNIT\n"
          ]
        }
      ],
      "source": [
        "doc_test_en = nlp_roberta(ingredient_list_en[0])\n",
        "print(doc_test_en)\n",
        "print(doc_test_en.ents)\n",
        "\n",
        "for ent in doc_test_en.ents:\n",
        "    print(ent.text, ent.start_char, ent.end_char, ent.label_)\n",
        "print()\n",
        "doc_test_it = nlp_roberta(ingredient_list_it[0])\n",
        "print(doc_test_it)\n",
        "print(doc_test_it.ents)\n",
        "\n",
        "for ent in doc_test_it.ents:\n",
        "    print(ent.text, ent.start_char, ent.end_char, ent.label_)"
      ]
    },
    {
      "cell_type": "code",
      "execution_count": 11,
      "metadata": {},
      "outputs": [
        {
          "data": {
            "text/html": [
              "<span class=\"tex2jax_ignore\"><div class=\"entities\" style=\"line-height: 2.5; direction: ltr\">\n",
              "<mark class=\"entity\" style=\"background: #e4e7d2; padding: 0.45em 0.6em; margin: 0 0.25em; line-height: 1; border-radius: 0.35em;\">\n",
              "    1 1/2\n",
              "    <span style=\"font-size: 0.8em; font-weight: bold; line-height: 1; border-radius: 0.35em; vertical-align: middle; margin-left: 0.5rem\">QUANTITY</span>\n",
              "</mark>\n",
              " \n",
              "<mark class=\"entity\" style=\"background: #ddd; padding: 0.45em 0.6em; margin: 0 0.25em; line-height: 1; border-radius: 0.35em;\">\n",
              "    cups\n",
              "    <span style=\"font-size: 0.8em; font-weight: bold; line-height: 1; border-radius: 0.35em; vertical-align: middle; margin-left: 0.5rem\">UNIT</span>\n",
              "</mark>\n",
              " \n",
              "<mark class=\"entity\" style=\"background: #ddd; padding: 0.45em 0.6em; margin: 0 0.25em; line-height: 1; border-radius: 0.35em;\">\n",
              "    pecans\n",
              "    <span style=\"font-size: 0.8em; font-weight: bold; line-height: 1; border-radius: 0.35em; vertical-align: middle; margin-left: 0.5rem\">FOOD</span>\n",
              "</mark>\n",
              ", \n",
              "<mark class=\"entity\" style=\"background: #ddd; padding: 0.45em 0.6em; margin: 0 0.25em; line-height: 1; border-radius: 0.35em;\">\n",
              "    finely chopped\n",
              "    <span style=\"font-size: 0.8em; font-weight: bold; line-height: 1; border-radius: 0.35em; vertical-align: middle; margin-left: 0.5rem\">PROCESS</span>\n",
              "</mark>\n",
              "</div></span>"
            ],
            "text/plain": [
              "<IPython.core.display.HTML object>"
            ]
          },
          "metadata": {},
          "output_type": "display_data"
        },
        {
          "data": {
            "text/html": [
              "<span class=\"tex2jax_ignore\"><div class=\"entities\" style=\"line-height: 2.5; direction: ltr\">Macinato di vitello \n",
              "<mark class=\"entity\" style=\"background: #e4e7d2; padding: 0.45em 0.6em; margin: 0 0.25em; line-height: 1; border-radius: 0.35em;\">\n",
              "    500\n",
              "    <span style=\"font-size: 0.8em; font-weight: bold; line-height: 1; border-radius: 0.35em; vertical-align: middle; margin-left: 0.5rem\">QUANTITY</span>\n",
              "</mark>\n",
              " \n",
              "<mark class=\"entity\" style=\"background: #ddd; padding: 0.45em 0.6em; margin: 0 0.25em; line-height: 1; border-radius: 0.35em;\">\n",
              "    g\n",
              "    <span style=\"font-size: 0.8em; font-weight: bold; line-height: 1; border-radius: 0.35em; vertical-align: middle; margin-left: 0.5rem\">UNIT</span>\n",
              "</mark>\n",
              "</div></span>"
            ],
            "text/plain": [
              "<IPython.core.display.HTML object>"
            ]
          },
          "metadata": {},
          "output_type": "display_data"
        }
      ],
      "source": [
        "from spacy import displacy\n",
        "\n",
        "displacy.render(doc_test_en, style=\"ent\", jupyter=True)\n",
        "displacy.render(doc_test_it, style=\"ent\", jupyter=True)"
      ]
    },
    {
      "cell_type": "code",
      "execution_count": null,
      "metadata": {
        "colab": {
          "base_uri": "https://localhost:8080/",
          "height": 542
        },
        "id": "D4S2cYLsXYAf",
        "outputId": "c9bfe379-9e4c-4238-9bbc-e9d653421872"
      },
      "outputs": [],
      "source": [
        "# # process the recipe, line-by-line\n",
        "# docs_cpu = [process_text(line, model = nlp_cpu) for line in scraper.ingredients()]\n",
        "\n",
        "# displacy.render(docs_cpu, style=\"ent\", jupyter=True\n",
        "\n",
        "docs_roberta = [process_text(line, model = nlp_roberta) for line in scraper.ingredients()]\n",
        "\n",
        "displacy.render(docs_roberta, style=\"ent\", jupyter=True)"
      ]
    },
    {
      "cell_type": "code",
      "execution_count": null,
      "metadata": {
        "colab": {
          "base_uri": "https://localhost:8080/"
        },
        "id": "6BtYXGJoYQYu",
        "outputId": "2eb535fd-e7bb-45b8-c018-f54c06f03a66"
      },
      "outputs": [],
      "source": [
        "PREPPY_URL = 'https://preppykitchen.com/coffee-cake/'\n",
        "scraper = scrape_me(PREPPY_URL, wild_mode=True)\n",
        "scraper.ingredients()"
      ]
    },
    {
      "cell_type": "code",
      "execution_count": null,
      "metadata": {
        "colab": {
          "base_uri": "https://localhost:8080/",
          "height": 647
        },
        "id": "SZCdJhZmYwYx",
        "outputId": "28b22475-4967-4d9c-9a82-ffd33406cc68"
      },
      "outputs": [],
      "source": [
        "# process the recipe, line-by-line\n",
        "docs_roberta = [process_text(line) for line in scraper.ingredients()]\n",
        "\n",
        "displacy.render(docs_roberta, style=\"ent\", jupyter=True)"
      ]
    },
    {
      "cell_type": "markdown",
      "metadata": {
        "id": "3wobH-_BY4XW"
      },
      "source": [
        "And that's all folks! Feel free to use this code for your own purposes, and happy parsing!"
      ]
    }
  ],
  "metadata": {
    "colab": {
      "provenance": []
    },
    "kernelspec": {
      "display_name": "Python 3",
      "name": "python3"
    },
    "language_info": {
      "codemirror_mode": {
        "name": "ipython",
        "version": 3
      },
      "file_extension": ".py",
      "mimetype": "text/x-python",
      "name": "python",
      "nbconvert_exporter": "python",
      "pygments_lexer": "ipython3",
      "version": "3.8.10"
    }
  },
  "nbformat": 4,
  "nbformat_minor": 0
}
