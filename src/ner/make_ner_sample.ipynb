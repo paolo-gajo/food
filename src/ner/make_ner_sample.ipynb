{
 "cells": [
  {
   "cell_type": "code",
   "execution_count": 22,
   "metadata": {},
   "outputs": [],
   "source": [
    "from tqdm.auto import tqdm\n",
    "import re\n",
    "def make_ner_sample(sample,\n",
    "                    tokenizer,\n",
    "                    label_dict,\n",
    "                    lang = 'en',\n",
    "                    text_name = 'text',\n",
    "                    label_field = 'predictions',\n",
    "                    label_list = []\n",
    "                    ):\n",
    "    sample_text = sample['data'][f'{text_name}_{lang}']\n",
    "    tokens = tokenizer(sample_text,\n",
    "                    #    return_tensors='pt',\n",
    "                       truncation = True,\n",
    "                       padding = 'max_length'\n",
    "                       )\n",
    "    # print(tokens)\n",
    "    labels = []\n",
    "    previous_match_span = (-1, -1)\n",
    "    for i, id in enumerate(tokens['input_ids']):\n",
    "        span = tokens.token_to_chars(i)\n",
    "        if int(id) not in [101, 102, tokenizer.pad_token_id]:\n",
    "            start = span.start\n",
    "            end = span.end\n",
    "            new_item = ''\n",
    "            for result in sample[label_field][0]['result']:\n",
    "                # ic(start, end)\n",
    "                # ic(result)\n",
    "                if result['value']:\n",
    "                    label = result['value']['labels'][0]\n",
    "                    if start >= result['value']['start'] \\\n",
    "                    and end <= result['value']['end'] \\\n",
    "                    and result['from_name'] == f'label_{lang}' \\\n",
    "                    and re.search(re.compile(r'[.,;]'), tokenizer.decode(id)) is None \\\n",
    "                    and label in label_list:\n",
    "                        if result['value']['start'] == previous_match_span[0] \\\n",
    "                        and result['value']['end'] == previous_match_span[1]:\n",
    "                            new_item = 'I-' + label\n",
    "                        else:\n",
    "                            new_item = 'B-' + label\n",
    "                        labels.append(new_item)\n",
    "                        previous_match_span = (result['value']['start'], result['value']['end'])\n",
    "            if not new_item:\n",
    "                labels.append('O')\n",
    "            # ic(i, int(id), new_item, sample['data']['text_en'][start:end], tokenizer.decode(id))\n",
    "        else:\n",
    "            new_item = -100\n",
    "            labels.append(new_item)\n",
    "    labels = [int(label_dict[label] if isinstance(label, str) else label) for label in labels]\n",
    "    tokens.update({'labels': labels})\n",
    "    return tokens\n",
    "\n",
    "def get_ner_classes(data=None, label_field='predictions', raw_labels=None):\n",
    "    if not raw_labels:\n",
    "        raw_labels = []\n",
    "        for line in tqdm(data['train']):\n",
    "            # print(line)\n",
    "            for prediction in line[label_field]:\n",
    "                for result in prediction['result']:\n",
    "                    if result['value']:\n",
    "                        if result['value']['labels'][0] not in raw_labels:\n",
    "                            raw_labels.append(result['value']['labels'][0])\n",
    "\n",
    "    label_list = ['O']\n",
    "    prefixes = ['B-', 'I-']\n",
    "    for raw_label in raw_labels:\n",
    "        for prefix in prefixes:\n",
    "            label_list.append(prefix+raw_label)\n",
    "    \n",
    "    label2id = {k: v for v, k in enumerate(label_list)}\n",
    "    id2label = {v: k for k, v in zip(label2id.keys(), label2id.values())}\n",
    "    \n",
    "    return raw_labels, label_list, label2id, id2label"
   ]
  },
  {
   "cell_type": "code",
   "execution_count": 23,
   "metadata": {},
   "outputs": [
    {
     "name": "stdout",
     "output_type": "stream",
     "text": [
      "Rigatoni 500 g;Passata di pomodoro 800 g;Provola 200 g;Parmigiano Reggiano DOP da grattugiare 200 g;Mortadella 160 g;Salame 130 g;Mozzarella 130 g;Uova 4;Cipolle piccola 1;Aglio 1 spicchio;Basilico q.b.;Timo q.b.;Olio extravergine d'oliva q.b.;Sale fino 1 pizzico\n",
      "Rigatoni\n",
      "Passata di pomodoro\n",
      "Provola\n",
      "Parmigiano Reggiano DOP\n",
      "Mortadella\n",
      "Salame\n",
      "Mozzarella\n",
      "Uova\n",
      "Cipolle\n",
      "Aglio\n",
      "Basilico\n",
      "Timo\n",
      "Olio extravergine d'oliva\n",
      "Sale\n",
      "500\n",
      "800\n",
      "200\n",
      "200\n",
      "160\n",
      "130\n",
      "130\n",
      "4\n",
      "1\n",
      "1\n",
      "q.b.\n",
      "q.b.\n",
      "q.b.\n",
      "1\n",
      "g\n",
      "g\n",
      "g\n",
      "g\n",
      "g\n",
      "g\n",
      "g\n",
      "pizzico\n",
      "piccola\n",
      "fino\n",
      "spicchio\n",
      "da grattugiare\n"
     ]
    }
   ],
   "source": [
    "import json\n",
    "json_path = '/home/pgajo/food/data/GZ/GZ-GOLD/GZ-GOLD-NER-ALIGN_105.json'\n",
    "with open(json_path) as f:\n",
    "    data = json.load(f)\n",
    "\n",
    "sample = data[174]\n",
    "print(sample['data']['ingredients_it'])\n",
    "# for result in sample['annotations'][0]:\n",
    "#     print()\n",
    "for result in sample['annotations'][0]['result']:\n",
    "    if 'from_name' in result.keys():\n",
    "        if result['from_name'] == 'label_it':\n",
    "            print(sample['data']['ingredients_it'][result['value']['start']:result['value']['end']])"
   ]
  },
  {
   "cell_type": "code",
   "execution_count": 27,
   "metadata": {},
   "outputs": [
    {
     "data": {
      "text/plain": [
       "{'input_ids': [101, 34466, 54193, 123, 41506, 10107, 113, 10757, 175, 114, 132, 78079, 10340, 33166, 10112, 126, 41506, 10107, 113, 11900, 175, 114, 132, 14021, 72702, 10262, 13565, 128, 54434, 113, 10777, 175, 114, 132, 37475, 95734, 107990, 95734, 65535, 11403, 10262, 13565, 128, 54434, 113, 10777, 175, 114, 118, 63706, 11912, 132, 56027, 93429, 10330, 126, 119, 127, 54434, 113, 13849, 175, 114, 132, 27162, 10500, 126, 119, 127, 54434, 113, 13389, 175, 114, 132, 34987, 55306, 11083, 10262, 13565, 125, 119, 127, 54434, 113, 13389, 175, 114, 132, 95574, 10107, 125, 132, 60781, 13326, 122, 118, 12474, 132, 69699, 47234, 10350, 122, 171, 73477, 132, 59333, 10114, 84298, 132, 51635, 55460, 10114, 84298, 132, 50821, 13953, 18823, 105133, 21073, 10114, 84298, 132, 24846, 44253, 122, 59227, 10269, 102, 0, 0, 0, 0, 0, 0, 0, 0, 0, 0, 0, 0, 0, 0, 0, 0, 0, 0, 0, 0, 0, 0, 0, 0, 0, 0, 0, 0, 0, 0, 0, 0, 0, 0, 0, 0, 0, 0, 0, 0, 0, 0, 0, 0, 0, 0, 0, 0, 0, 0, 0, 0, 0, 0, 0, 0, 0, 0, 0, 0, 0, 0, 0, 0, 0, 0, 0, 0, 0, 0, 0, 0, 0, 0, 0, 0, 0, 0, 0, 0, 0, 0, 0, 0, 0, 0, 0, 0, 0, 0, 0, 0, 0, 0, 0, 0, 0, 0, 0, 0, 0, 0, 0, 0, 0, 0, 0, 0, 0, 0, 0, 0, 0, 0, 0, 0, 0, 0, 0, 0, 0, 0, 0, 0, 0, 0, 0, 0, 0, 0, 0, 0, 0, 0, 0, 0, 0, 0, 0, 0, 0, 0, 0, 0, 0, 0, 0, 0, 0, 0, 0, 0, 0, 0, 0, 0, 0, 0, 0, 0, 0, 0, 0, 0, 0, 0, 0, 0, 0, 0, 0, 0, 0, 0, 0, 0, 0, 0, 0, 0, 0, 0, 0, 0, 0, 0, 0, 0, 0, 0, 0, 0, 0, 0, 0, 0, 0, 0, 0, 0, 0, 0, 0, 0, 0, 0, 0, 0, 0, 0, 0, 0, 0, 0, 0, 0, 0, 0, 0, 0, 0, 0, 0, 0, 0, 0, 0, 0, 0, 0, 0, 0, 0, 0, 0, 0, 0, 0, 0, 0, 0, 0, 0, 0, 0, 0, 0, 0, 0, 0, 0, 0, 0, 0, 0, 0, 0, 0, 0, 0, 0, 0, 0, 0, 0, 0, 0, 0, 0, 0, 0, 0, 0, 0, 0, 0, 0, 0, 0, 0, 0, 0, 0, 0, 0, 0, 0, 0, 0, 0, 0, 0, 0, 0, 0, 0, 0, 0, 0, 0, 0, 0, 0, 0, 0, 0, 0, 0, 0, 0, 0, 0, 0, 0, 0, 0, 0, 0, 0, 0, 0, 0, 0, 0, 0, 0, 0, 0, 0, 0, 0, 0, 0, 0, 0, 0, 0, 0, 0, 0, 0, 0, 0, 0, 0, 0, 0, 0, 0, 0, 0, 0, 0, 0, 0, 0, 0, 0, 0, 0, 0, 0, 0, 0, 0, 0, 0, 0, 0, 0, 0, 0, 0, 0, 0, 0, 0, 0, 0, 0, 0, 0, 0], 'token_type_ids': [0, 0, 0, 0, 0, 0, 0, 0, 0, 0, 0, 0, 0, 0, 0, 0, 0, 0, 0, 0, 0, 0, 0, 0, 0, 0, 0, 0, 0, 0, 0, 0, 0, 0, 0, 0, 0, 0, 0, 0, 0, 0, 0, 0, 0, 0, 0, 0, 0, 0, 0, 0, 0, 0, 0, 0, 0, 0, 0, 0, 0, 0, 0, 0, 0, 0, 0, 0, 0, 0, 0, 0, 0, 0, 0, 0, 0, 0, 0, 0, 0, 0, 0, 0, 0, 0, 0, 0, 0, 0, 0, 0, 0, 0, 0, 0, 0, 0, 0, 0, 0, 0, 0, 0, 0, 0, 0, 0, 0, 0, 0, 0, 0, 0, 0, 0, 0, 0, 0, 0, 0, 0, 0, 0, 0, 0, 0, 0, 0, 0, 0, 0, 0, 0, 0, 0, 0, 0, 0, 0, 0, 0, 0, 0, 0, 0, 0, 0, 0, 0, 0, 0, 0, 0, 0, 0, 0, 0, 0, 0, 0, 0, 0, 0, 0, 0, 0, 0, 0, 0, 0, 0, 0, 0, 0, 0, 0, 0, 0, 0, 0, 0, 0, 0, 0, 0, 0, 0, 0, 0, 0, 0, 0, 0, 0, 0, 0, 0, 0, 0, 0, 0, 0, 0, 0, 0, 0, 0, 0, 0, 0, 0, 0, 0, 0, 0, 0, 0, 0, 0, 0, 0, 0, 0, 0, 0, 0, 0, 0, 0, 0, 0, 0, 0, 0, 0, 0, 0, 0, 0, 0, 0, 0, 0, 0, 0, 0, 0, 0, 0, 0, 0, 0, 0, 0, 0, 0, 0, 0, 0, 0, 0, 0, 0, 0, 0, 0, 0, 0, 0, 0, 0, 0, 0, 0, 0, 0, 0, 0, 0, 0, 0, 0, 0, 0, 0, 0, 0, 0, 0, 0, 0, 0, 0, 0, 0, 0, 0, 0, 0, 0, 0, 0, 0, 0, 0, 0, 0, 0, 0, 0, 0, 0, 0, 0, 0, 0, 0, 0, 0, 0, 0, 0, 0, 0, 0, 0, 0, 0, 0, 0, 0, 0, 0, 0, 0, 0, 0, 0, 0, 0, 0, 0, 0, 0, 0, 0, 0, 0, 0, 0, 0, 0, 0, 0, 0, 0, 0, 0, 0, 0, 0, 0, 0, 0, 0, 0, 0, 0, 0, 0, 0, 0, 0, 0, 0, 0, 0, 0, 0, 0, 0, 0, 0, 0, 0, 0, 0, 0, 0, 0, 0, 0, 0, 0, 0, 0, 0, 0, 0, 0, 0, 0, 0, 0, 0, 0, 0, 0, 0, 0, 0, 0, 0, 0, 0, 0, 0, 0, 0, 0, 0, 0, 0, 0, 0, 0, 0, 0, 0, 0, 0, 0, 0, 0, 0, 0, 0, 0, 0, 0, 0, 0, 0, 0, 0, 0, 0, 0, 0, 0, 0, 0, 0, 0, 0, 0, 0, 0, 0, 0, 0, 0, 0, 0, 0, 0, 0, 0, 0, 0, 0, 0, 0, 0, 0, 0, 0, 0, 0, 0, 0, 0, 0, 0, 0, 0, 0, 0, 0, 0, 0, 0, 0, 0, 0, 0, 0, 0, 0, 0, 0, 0, 0, 0, 0, 0, 0, 0, 0, 0, 0], 'attention_mask': [1, 1, 1, 1, 1, 1, 1, 1, 1, 1, 1, 1, 1, 1, 1, 1, 1, 1, 1, 1, 1, 1, 1, 1, 1, 1, 1, 1, 1, 1, 1, 1, 1, 1, 1, 1, 1, 1, 1, 1, 1, 1, 1, 1, 1, 1, 1, 1, 1, 1, 1, 1, 1, 1, 1, 1, 1, 1, 1, 1, 1, 1, 1, 1, 1, 1, 1, 1, 1, 1, 1, 1, 1, 1, 1, 1, 1, 1, 1, 1, 1, 1, 1, 1, 1, 1, 1, 1, 1, 1, 1, 1, 1, 1, 1, 1, 1, 1, 1, 1, 1, 1, 1, 1, 1, 1, 1, 1, 1, 1, 1, 1, 1, 1, 1, 1, 1, 1, 1, 1, 1, 1, 1, 1, 1, 1, 1, 1, 1, 0, 0, 0, 0, 0, 0, 0, 0, 0, 0, 0, 0, 0, 0, 0, 0, 0, 0, 0, 0, 0, 0, 0, 0, 0, 0, 0, 0, 0, 0, 0, 0, 0, 0, 0, 0, 0, 0, 0, 0, 0, 0, 0, 0, 0, 0, 0, 0, 0, 0, 0, 0, 0, 0, 0, 0, 0, 0, 0, 0, 0, 0, 0, 0, 0, 0, 0, 0, 0, 0, 0, 0, 0, 0, 0, 0, 0, 0, 0, 0, 0, 0, 0, 0, 0, 0, 0, 0, 0, 0, 0, 0, 0, 0, 0, 0, 0, 0, 0, 0, 0, 0, 0, 0, 0, 0, 0, 0, 0, 0, 0, 0, 0, 0, 0, 0, 0, 0, 0, 0, 0, 0, 0, 0, 0, 0, 0, 0, 0, 0, 0, 0, 0, 0, 0, 0, 0, 0, 0, 0, 0, 0, 0, 0, 0, 0, 0, 0, 0, 0, 0, 0, 0, 0, 0, 0, 0, 0, 0, 0, 0, 0, 0, 0, 0, 0, 0, 0, 0, 0, 0, 0, 0, 0, 0, 0, 0, 0, 0, 0, 0, 0, 0, 0, 0, 0, 0, 0, 0, 0, 0, 0, 0, 0, 0, 0, 0, 0, 0, 0, 0, 0, 0, 0, 0, 0, 0, 0, 0, 0, 0, 0, 0, 0, 0, 0, 0, 0, 0, 0, 0, 0, 0, 0, 0, 0, 0, 0, 0, 0, 0, 0, 0, 0, 0, 0, 0, 0, 0, 0, 0, 0, 0, 0, 0, 0, 0, 0, 0, 0, 0, 0, 0, 0, 0, 0, 0, 0, 0, 0, 0, 0, 0, 0, 0, 0, 0, 0, 0, 0, 0, 0, 0, 0, 0, 0, 0, 0, 0, 0, 0, 0, 0, 0, 0, 0, 0, 0, 0, 0, 0, 0, 0, 0, 0, 0, 0, 0, 0, 0, 0, 0, 0, 0, 0, 0, 0, 0, 0, 0, 0, 0, 0, 0, 0, 0, 0, 0, 0, 0, 0, 0, 0, 0, 0, 0, 0, 0, 0, 0, 0, 0, 0, 0, 0, 0, 0, 0, 0, 0, 0, 0, 0, 0, 0, 0, 0, 0, 0, 0, 0, 0, 0, 0, 0, 0, 0, 0, 0, 0, 0, 0, 0, 0, 0, 0, 0, 0, 0, 0, 0, 0, 0, 0, 0, 0, 0, 0, 0, 0, 0, 0, 0], 'labels': [-100, 0, 0, 0, 0, 0, 0, 0, 0, 0, 0, 0, 0, 0, 0, 0, 0, 0, 0, 0, 0, 0, 0, 0, 0, 0, 0, 0, 0, 0, 0, 0, 0, 0, 0, 0, 0, 0, 0, 0, 0, 0, 0, 0, 0, 0, 0, 0, 0, 0, 0, 0, 0, 0, 0, 0, 0, 0, 0, 0, 0, 0, 0, 0, 0, 0, 0, 0, 0, 0, 0, 0, 0, 0, 0, 0, 0, 0, 0, 0, 0, 0, 0, 0, 0, 0, 0, 0, 0, 0, 0, 0, 0, 0, 0, 0, 0, 0, 0, 0, 0, 0, 0, 0, 0, 0, 0, 0, 0, 0, 0, 0, 0, 0, 0, 0, 0, 0, 0, 0, 0, 0, 0, 0, 0, 0, 0, 0, -100, -100, -100, -100, -100, -100, -100, -100, -100, -100, -100, -100, -100, -100, -100, -100, -100, -100, -100, -100, -100, -100, -100, -100, -100, -100, -100, -100, -100, -100, -100, -100, -100, -100, -100, -100, -100, -100, -100, -100, -100, -100, -100, -100, -100, -100, -100, -100, -100, -100, -100, -100, -100, -100, -100, -100, -100, -100, -100, -100, -100, -100, -100, -100, -100, -100, -100, -100, -100, -100, -100, -100, -100, -100, -100, -100, -100, -100, -100, -100, -100, -100, -100, -100, -100, -100, -100, -100, -100, -100, -100, -100, -100, -100, -100, -100, -100, -100, -100, -100, -100, -100, -100, -100, -100, -100, -100, -100, -100, -100, -100, -100, -100, -100, -100, -100, -100, -100, -100, -100, -100, -100, -100, -100, -100, -100, -100, -100, -100, -100, -100, -100, -100, -100, -100, -100, -100, -100, -100, -100, -100, -100, -100, -100, -100, -100, -100, -100, -100, -100, -100, -100, -100, -100, -100, -100, -100, -100, -100, -100, -100, -100, -100, -100, -100, -100, -100, -100, -100, -100, -100, -100, -100, -100, -100, -100, -100, -100, -100, -100, -100, -100, -100, -100, -100, -100, -100, -100, -100, -100, -100, -100, -100, -100, -100, -100, -100, -100, -100, -100, -100, -100, -100, -100, -100, -100, -100, -100, -100, -100, -100, -100, -100, -100, -100, -100, -100, -100, -100, -100, -100, -100, -100, -100, -100, -100, -100, -100, -100, -100, -100, -100, -100, -100, -100, -100, -100, -100, -100, -100, -100, -100, -100, -100, -100, -100, -100, -100, -100, -100, -100, -100, -100, -100, -100, -100, -100, -100, -100, -100, -100, -100, -100, -100, -100, -100, -100, -100, -100, -100, -100, -100, -100, -100, -100, -100, -100, -100, -100, -100, -100, -100, -100, -100, -100, -100, -100, -100, -100, -100, -100, -100, -100, -100, -100, -100, -100, -100, -100, -100, -100, -100, -100, -100, -100, -100, -100, -100, -100, -100, -100, -100, -100, -100, -100, -100, -100, -100, -100, -100, -100, -100, -100, -100, -100, -100, -100, -100, -100, -100, -100, -100, -100, -100, -100, -100, -100, -100, -100, -100, -100, -100, -100, -100, -100, -100, -100, -100, -100, -100, -100, -100, -100, -100, -100, -100, -100, -100, -100, -100, -100, -100, -100, -100, -100, -100, -100, -100, -100, -100, -100, -100, -100, -100, -100, -100, -100, -100, -100, -100, -100, -100, -100, -100]}"
      ]
     },
     "execution_count": 27,
     "metadata": {},
     "output_type": "execute_result"
    }
   ],
   "source": [
    "from datasets import load_from_disk\n",
    "data_name_test = '/home/pgajo/food/datasets/GZ-GOLD-NER-ALIGN_105_spaced_testonly'\n",
    "dataset_test_raw = load_from_disk(data_name_test)\n",
    "label_list = ['QUANTITY', 'FOOD', 'UNIT', 'COLOR', 'PHYSICAL_QUALITY', 'PROCESS', 'PURPOSE', 'TASTE', 'PART']\n",
    "raw_labels, label_list, label2id, id2label = get_ner_classes(raw_labels=label_list)\n",
    "sample = dataset_test_raw['train'][174]\n",
    "\n",
    "from transformers import AutoTokenizer\n",
    "tokenizer = AutoTokenizer.from_pretrained('bert-base-multilingual-cased')\n",
    "make_ner_sample(sample, tokenizer, label2id, label_field='annotations')\n"
   ]
  },
  {
   "cell_type": "code",
   "execution_count": null,
   "metadata": {},
   "outputs": [],
   "source": [
    "for result in sample['annotations'][0]['result']:\n",
    "    if 'from_name' in result.keys():\n",
    "        if result['from_name'] == 'label_en':\n",
    "            print(sample['data']['text_en'][result['value']['start']:result['value']['end']])"
   ]
  }
 ],
 "metadata": {
  "kernelspec": {
   "display_name": "food",
   "language": "python",
   "name": "python3"
  },
  "language_info": {
   "codemirror_mode": {
    "name": "ipython",
    "version": 3
   },
   "file_extension": ".py",
   "mimetype": "text/x-python",
   "name": "python",
   "nbconvert_exporter": "python",
   "pygments_lexer": "ipython3",
   "version": "3.8.18"
  }
 },
 "nbformat": 4,
 "nbformat_minor": 2
}
