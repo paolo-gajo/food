{
 "cells": [
  {
   "cell_type": "code",
   "execution_count": 1,
   "metadata": {},
   "outputs": [
    {
     "name": "stderr",
     "output_type": "stream",
     "text": [
      "/opt/miniconda3/envs/food/lib/python3.8/site-packages/tqdm/auto.py:21: TqdmWarning: IProgress not found. Please update jupyter and ipywidgets. See https://ipywidgets.readthedocs.io/en/stable/user_install.html\n",
      "  from .autonotebook import tqdm as notebook_tqdm\n"
     ]
    },
    {
     "name": "stdout",
     "output_type": "stream",
     "text": [
      "Token has not been saved to git credential helper. Pass `add_to_git_credential=True` if you want to set the git credential as well.\n",
      "Token is valid (permission: write).\n",
      "Your token has been saved to /models/huggingface/token\n",
      "Login successful\n"
     ]
    },
    {
     "data": {
      "text/plain": [
       "DatasetDict({\n",
       "    train: Dataset({\n",
       "        features: ['data', 'predictions'],\n",
       "        num_rows: 630\n",
       "    })\n",
       "    test: Dataset({\n",
       "        features: ['data', 'predictions'],\n",
       "        num_rows: 70\n",
       "    })\n",
       "})"
      ]
     },
     "execution_count": 1,
     "metadata": {},
     "output_type": "execute_result"
    }
   ],
   "source": [
    "from huggingface_hub import login\n",
    "from datasets import load_dataset\n",
    "import os\n",
    "from icecream import ic\n",
    "\n",
    "login(os.environ['HF_TOKEN'])\n",
    "\n",
    "data_name = 'pgajo/EW-TT-PE_en-it_spaced'\n",
    "dataset = load_dataset(data_name)\n",
    "\n",
    "ic(dataset)\n",
    "\n",
    "raw_labels = []\n",
    "from tqdm.auto import tqdm\n",
    "for line in tqdm(dataset['train']):\n",
    "    # print(line)\n",
    "    for result in line['predictions'][0]['result']:\n",
    "        if result['value']['labels'][0] not in raw_labels:\n",
    "            raw_labels.append(result['value']['labels'][0])\n",
    "print(raw_labels)\n",
    "from transformers import AutoTokenizer\n",
    "\n",
    "tokenizer = AutoTokenizer.from_pretrained(\"distilbert-base-uncased\")\n",
    "example = dataset['train'][0]\n",
    "\n",
    "ic(example)\n",
    "\n",
    "example_text = example['data']['text_en']\n",
    "example_text\n",
    "tokens = tokenizer(example_text, return_tensors='pt')\n",
    "\n",
    "ic(tokens)\n",
    "\n",
    "label_list = []\n",
    "input_ids = tokens['input_ids'].squeeze()\n",
    "for i, id in enumerate(input_ids):\n",
    "    span = tokens.token_to_chars(i)\n",
    "    if int(id) not in [101, 102]:\n",
    "        start = span.start\n",
    "        end = span.end\n",
    "        ic(start, end)\n",
    "        ic(example['data']['text_en'][start:end])\n",
    "        for result in example['predictions'][0]['result']:\n",
    "            if start >= result['value']['start'] and end <= result['value']['end']:\n",
    "                new_item = 'B-'+result['value']['labels'][0]\n",
    "                label_list.append(new_item)\n",
    "        # ic(i, int(id), new_item, example['data']['text_en'][start:end])\n",
    "    else:\n",
    "        new_item = -100\n",
    "        label_list.append(new_item)\n",
    "ic(len(label_list))\n",
    "ic(len(input_ids))\n",
    "# for a, b in zip(tokens['input_ids'].squeeze(), label_list):\n",
    "#     ic(a,b)\n"
   ]
  }
 ],
 "metadata": {
  "kernelspec": {
   "display_name": "food",
   "language": "python",
   "name": "python3"
  },
  "language_info": {
   "codemirror_mode": {
    "name": "ipython",
    "version": 3
   },
   "file_extension": ".py",
   "mimetype": "text/x-python",
   "name": "python",
   "nbconvert_exporter": "python",
   "pygments_lexer": "ipython3",
   "version": "3.8.18"
  }
 },
 "nbformat": 4,
 "nbformat_minor": 2
}
