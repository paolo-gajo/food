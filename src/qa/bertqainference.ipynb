{
 "cells": [
  {
   "cell_type": "code",
   "execution_count": 2,
   "metadata": {},
   "outputs": [
    {
     "data": {
      "application/vnd.jupyter.widget-view+json": {
       "model_id": "65b2bafedbec49b9a244c4cffbdc3abb",
       "version_major": 2,
       "version_minor": 0
      },
      "text/plain": [
       "config.json:   0%|          | 0.00/673 [00:00<?, ?B/s]"
      ]
     },
     "metadata": {},
     "output_type": "display_data"
    },
    {
     "data": {
      "application/vnd.jupyter.widget-view+json": {
       "model_id": "935e1ceed6564efd8a8946987048aae1",
       "version_major": 2,
       "version_minor": 0
      },
      "text/plain": [
       "model.safetensors:   0%|          | 0.00/436M [00:00<?, ?B/s]"
      ]
     },
     "metadata": {},
     "output_type": "display_data"
    }
   ],
   "source": [
    "from transformers import BertTokenizer, BertForQuestionAnswering\n",
    "import torch\n",
    "# tokenizer = BertTokenizer.from_pretrained('bert-large-uncased-whole-word-masking-finetuned-squad')\n",
    "# model = BertForQuestionAnswering.from_pretrained('bert-large-uncased-whole-word-masking-finetuned-squad').to('cuda')\n",
    "tokenizer = BertTokenizer.from_pretrained('bert-base-uncased')\n",
    "model = BertForQuestionAnswering.from_pretrained('pgajo/bert-base-uncased-squad2').to('cuda')"
   ]
  },
  {
   "cell_type": "code",
   "execution_count": 3,
   "metadata": {},
   "outputs": [
    {
     "name": "stdout",
     "output_type": "stream",
     "text": [
      "What is the capital of France?\n",
      "France is a country whose territory consists of metropolitan France in Western Europe, as well as several overseas regions and territories. The capital of France is Paris.\n"
     ]
    }
   ],
   "source": [
    "question_context_pairs = [\n",
    "    {\n",
    "        \"question\": \"Who developed the theory of relativity?\",\n",
    "        \"context\": \"The theory of relativity, developed by Albert Einstein, revolutionized theoretical physics and astronomy during the 20th century.\"\n",
    "    },\n",
    "    {\n",
    "        \"question\": \"What is the capital of France?\",\n",
    "        \"context\": \"France is a country whose territory consists of metropolitan France in Western Europe, as well as several overseas regions and territories. The capital of France is Paris.\"\n",
    "    },\n",
    "    {\n",
    "        \"question\": \"When was the Python programming language released?\",\n",
    "        \"context\": \"Python is a high-level, interpreted programming language. Its design philosophy emphasizes code readability. Python was created by Guido van Rossum and first released in 1991.\"\n",
    "    },\n",
    "    {\n",
    "        \"question\": \"What causes COVID-19?\",\n",
    "        \"context\": \"COVID-19 is an infectious disease caused by the most recently discovered coronavirus. This new virus and disease were unknown before the outbreak began in Wuhan, China, in December 2019.\"\n",
    "    },\n",
    "    {\n",
    "        \"question\": \"Where is the Great Barrier Reef located?\",\n",
    "        \"context\": \"The Great Barrier Reef is the world's largest coral reef system composed of over 2,900 individual reefs and 900 islands stretching for over 2,300 kilometers. The reef is located in the Coral Sea, off the coast of Queensland, Australia.\"\n",
    "    }\n",
    "]\n",
    "\n",
    "# Example of how to access a pair\n",
    "question = question_context_pairs[1][\"question\"]\n",
    "print(question)\n",
    "context = question_context_pairs[1][\"context\"]\n",
    "print(context)"
   ]
  },
  {
   "cell_type": "code",
   "execution_count": 4,
   "metadata": {},
   "outputs": [
    {
     "name": "stdout",
     "output_type": "stream",
     "text": [
      "{'input_ids': tensor([[ 101, 2054, 2003, 1996, 3007, 1997, 2605, 1029,  102, 2605, 2003, 1037,\n",
      "         2406, 3005, 3700, 3774, 1997, 4956, 2605, 1999, 2530, 2885, 1010, 2004,\n",
      "         2092, 2004, 2195, 6931, 4655, 1998, 6500, 1012, 1996, 3007, 1997, 2605,\n",
      "         2003, 3000, 1012,  102]], device='cuda:0'), 'token_type_ids': tensor([[0, 0, 0, 0, 0, 0, 0, 0, 0, 1, 1, 1, 1, 1, 1, 1, 1, 1, 1, 1, 1, 1, 1, 1,\n",
      "         1, 1, 1, 1, 1, 1, 1, 1, 1, 1, 1, 1, 1, 1, 1, 1]], device='cuda:0'), 'attention_mask': tensor([[1, 1, 1, 1, 1, 1, 1, 1, 1, 1, 1, 1, 1, 1, 1, 1, 1, 1, 1, 1, 1, 1, 1, 1,\n",
      "         1, 1, 1, 1, 1, 1, 1, 1, 1, 1, 1, 1, 1, 1, 1, 1]], device='cuda:0')}\n",
      "torch.Size([1, 40])\n"
     ]
    }
   ],
   "source": [
    "inputs = tokenizer.encode_plus(question, context, add_special_tokens=True, return_tensors=\"pt\").to('cuda')\n",
    "print(inputs)\n",
    "print(inputs['input_ids'].shape)"
   ]
  },
  {
   "cell_type": "code",
   "execution_count": 5,
   "metadata": {},
   "outputs": [
    {
     "name": "stdout",
     "output_type": "stream",
     "text": [
      "QuestionAnsweringModelOutput(loss=None, start_logits=tensor([[16.2452, 16.2452, 16.2452, 16.2452, 16.2452, 16.2452, 16.2452, 16.2452,\n",
      "         16.2452, 16.2452, 16.2452, 16.2452, 16.2452, 16.2452, 16.2452, 16.2452,\n",
      "         16.2452, 16.2452, 16.2452, 16.2452, 16.2452, 16.2452, 16.2452, 16.2452,\n",
      "         16.2452, 16.2452, 16.2452, 16.2452, 16.2452, 16.2452, 16.2452, 16.2452,\n",
      "         16.2452, 16.2452, 16.2452, 16.2452, 16.2452, 16.2452, 16.2452, 16.2452]],\n",
      "       device='cuda:0', grad_fn=<CloneBackward0>), end_logits=tensor([[16.3261, 16.3261, 16.3261, 16.3261, 16.3261, 16.3261, 16.3261, 16.3261,\n",
      "         16.3261, 16.3261, 16.3261, 16.3261, 16.3261, 16.3261, 16.3261, 16.3261,\n",
      "         16.3261, 16.3261, 16.3261, 16.3261, 16.3261, 16.3261, 16.3261, 16.3261,\n",
      "         16.3261, 16.3261, 16.3261, 16.3261, 16.3261, 16.3261, 16.3261, 16.3261,\n",
      "         16.3261, 16.3261, 16.3261, 16.3261, 16.3261, 16.3261, 16.3261, 16.3261]],\n",
      "       device='cuda:0', grad_fn=<CloneBackward0>), hidden_states=None, attentions=None)\n"
     ]
    }
   ],
   "source": [
    "outputs = model(**inputs)\n",
    "print(outputs)"
   ]
  },
  {
   "cell_type": "code",
   "execution_count": 6,
   "metadata": {},
   "outputs": [
    {
     "name": "stdout",
     "output_type": "stream",
     "text": [
      "tensor(0, device='cuda:0')\n"
     ]
    }
   ],
   "source": [
    "print(outputs.start_logits.argmax())"
   ]
  },
  {
   "cell_type": "code",
   "execution_count": 7,
   "metadata": {},
   "outputs": [
    {
     "name": "stdout",
     "output_type": "stream",
     "text": [
      "tensor(0, device='cuda:0')\n"
     ]
    }
   ],
   "source": [
    "print(outputs.end_logits.argmax())"
   ]
  },
  {
   "cell_type": "code",
   "execution_count": 8,
   "metadata": {},
   "outputs": [
    {
     "data": {
      "text/plain": [
       "'[CLS]'"
      ]
     },
     "execution_count": 8,
     "metadata": {},
     "output_type": "execute_result"
    }
   ],
   "source": [
    "tokenizer.decode(inputs['input_ids'].squeeze()[outputs.start_logits.argmax():outputs.end_logits.argmax()+1])"
   ]
  },
  {
   "cell_type": "code",
   "execution_count": null,
   "metadata": {},
   "outputs": [],
   "source": []
  }
 ],
 "metadata": {
  "kernelspec": {
   "display_name": "food-env",
   "language": "python",
   "name": "python3"
  },
  "language_info": {
   "codemirror_mode": {
    "name": "ipython",
    "version": 3
   },
   "file_extension": ".py",
   "mimetype": "text/x-python",
   "name": "python",
   "nbconvert_exporter": "python",
   "pygments_lexer": "ipython3",
   "version": "3.8.10"
  }
 },
 "nbformat": 4,
 "nbformat_minor": 2
}
