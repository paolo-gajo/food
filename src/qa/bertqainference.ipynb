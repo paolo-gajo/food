{
 "cells": [
  {
   "cell_type": "code",
   "execution_count": 1,
   "metadata": {},
   "outputs": [
    {
     "name": "stderr",
     "output_type": "stream",
     "text": [
      "Some weights of the model checkpoint at bert-large-uncased-whole-word-masking-finetuned-squad were not used when initializing BertForQuestionAnswering: ['bert.pooler.dense.weight', 'bert.pooler.dense.bias']\n",
      "- This IS expected if you are initializing BertForQuestionAnswering from the checkpoint of a model trained on another task or with another architecture (e.g. initializing a BertForSequenceClassification model from a BertForPreTraining model).\n",
      "- This IS NOT expected if you are initializing BertForQuestionAnswering from the checkpoint of a model that you expect to be exactly identical (initializing a BertForSequenceClassification model from a BertForSequenceClassification model).\n"
     ]
    }
   ],
   "source": [
    "from transformers import BertTokenizer, BertForQuestionAnswering\n",
    "import torch\n",
    "tokenizer = BertTokenizer.from_pretrained('bert-large-uncased-whole-word-masking-finetuned-squad')\n",
    "model = BertForQuestionAnswering.from_pretrained('bert-large-uncased-whole-word-masking-finetuned-squad').to('cuda')"
   ]
  },
  {
   "cell_type": "code",
   "execution_count": 2,
   "metadata": {},
   "outputs": [
    {
     "name": "stdout",
     "output_type": "stream",
     "text": [
      "What is the capital of France?\n",
      "France is a country whose territory consists of metropolitan France in Western Europe, as well as several overseas regions and territories. The capital of France is Paris.\n"
     ]
    }
   ],
   "source": [
    "question_context_pairs = [\n",
    "    {\n",
    "        \"question\": \"Who developed the theory of relativity?\",\n",
    "        \"context\": \"The theory of relativity, developed by Albert Einstein, revolutionized theoretical physics and astronomy during the 20th century.\"\n",
    "    },\n",
    "    {\n",
    "        \"question\": \"What is the capital of France?\",\n",
    "        \"context\": \"France is a country whose territory consists of metropolitan France in Western Europe, as well as several overseas regions and territories. The capital of France is Paris.\"\n",
    "    },\n",
    "    {\n",
    "        \"question\": \"When was the Python programming language released?\",\n",
    "        \"context\": \"Python is a high-level, interpreted programming language. Its design philosophy emphasizes code readability. Python was created by Guido van Rossum and first released in 1991.\"\n",
    "    },\n",
    "    {\n",
    "        \"question\": \"What causes COVID-19?\",\n",
    "        \"context\": \"COVID-19 is an infectious disease caused by the most recently discovered coronavirus. This new virus and disease were unknown before the outbreak began in Wuhan, China, in December 2019.\"\n",
    "    },\n",
    "    {\n",
    "        \"question\": \"Where is the Great Barrier Reef located?\",\n",
    "        \"context\": \"The Great Barrier Reef is the world's largest coral reef system composed of over 2,900 individual reefs and 900 islands stretching for over 2,300 kilometers. The reef is located in the Coral Sea, off the coast of Queensland, Australia.\"\n",
    "    }\n",
    "]\n",
    "\n",
    "# Example of how to access a pair\n",
    "question = question_context_pairs[1][\"question\"]\n",
    "print(question)\n",
    "context = question_context_pairs[1][\"context\"]\n",
    "print(context)"
   ]
  },
  {
   "cell_type": "code",
   "execution_count": 17,
   "metadata": {},
   "outputs": [
    {
     "name": "stdout",
     "output_type": "stream",
     "text": [
      "{'input_ids': tensor([[ 101, 2054, 2003, 1996, 3007, 1997, 2605, 1029,  102, 2605, 2003, 1037,\n",
      "         2406, 3005, 3700, 3774, 1997, 4956, 2605, 1999, 2530, 2885, 1010, 2004,\n",
      "         2092, 2004, 2195, 6931, 4655, 1998, 6500, 1012, 1996, 3007, 1997, 2605,\n",
      "         2003, 3000, 1012,  102]], device='cuda:0'), 'token_type_ids': tensor([[0, 0, 0, 0, 0, 0, 0, 0, 0, 1, 1, 1, 1, 1, 1, 1, 1, 1, 1, 1, 1, 1, 1, 1,\n",
      "         1, 1, 1, 1, 1, 1, 1, 1, 1, 1, 1, 1, 1, 1, 1, 1]], device='cuda:0'), 'attention_mask': tensor([[1, 1, 1, 1, 1, 1, 1, 1, 1, 1, 1, 1, 1, 1, 1, 1, 1, 1, 1, 1, 1, 1, 1, 1,\n",
      "         1, 1, 1, 1, 1, 1, 1, 1, 1, 1, 1, 1, 1, 1, 1, 1]], device='cuda:0')}\n",
      "torch.Size([1, 40])\n"
     ]
    }
   ],
   "source": [
    "inputs = tokenizer.encode_plus(question, context, add_special_tokens=True, return_tensors=\"pt\").to('cuda')\n",
    "print(inputs)\n",
    "print(inputs['input_ids'].shape)"
   ]
  },
  {
   "cell_type": "code",
   "execution_count": 18,
   "metadata": {},
   "outputs": [
    {
     "name": "stdout",
     "output_type": "stream",
     "text": [
      "QuestionAnsweringModelOutput(loss=None, start_logits=tensor([[-6.7909, -4.1555, -8.0475, -6.8801, -6.5031, -7.0851, -6.4636, -9.0271,\n",
      "         -6.7907, -1.9230, -7.1330, -6.6507, -5.7740, -7.6736, -6.1460, -6.8851,\n",
      "         -7.1528, -4.3491, -4.3381, -7.0451, -5.2822, -4.8498, -6.9500, -7.3055,\n",
      "         -7.7678, -7.9914, -6.0956, -6.1501, -6.7638, -7.9117, -6.2149, -6.7906,\n",
      "          2.9316,  0.8565, -2.8644,  0.1962, -3.5073,  6.8515, -5.4005, -6.7913]],\n",
      "       device='cuda:0', grad_fn=<CloneBackward0>), end_logits=tensor([[-1.5065, -3.0832, -6.0236, -6.7441, -5.3194, -5.3763, -3.5639, -5.3751,\n",
      "         -1.5063, -1.0769, -4.8500, -6.1928, -4.7044, -6.1315, -5.5946, -6.0360,\n",
      "         -6.2464, -4.3485, -1.7541, -5.8366, -4.8620, -2.3913, -2.5722, -6.0619,\n",
      "         -5.9968, -6.2176, -6.2443, -5.2960, -4.7480, -6.8405, -3.7108, -1.5061,\n",
      "         -2.6234, -1.5669, -3.6511,  0.2896, -3.3590,  7.7160,  3.3112, -1.5077]],\n",
      "       device='cuda:0', grad_fn=<CloneBackward0>), hidden_states=None, attentions=None)\n"
     ]
    }
   ],
   "source": [
    "outputs = model(**inputs)\n",
    "print(outputs)"
   ]
  },
  {
   "cell_type": "code",
   "execution_count": 19,
   "metadata": {},
   "outputs": [
    {
     "name": "stdout",
     "output_type": "stream",
     "text": [
      "tensor(37, device='cuda:0')\n"
     ]
    }
   ],
   "source": [
    "print(outputs.start_logits.argmax())"
   ]
  },
  {
   "cell_type": "code",
   "execution_count": 20,
   "metadata": {},
   "outputs": [
    {
     "name": "stdout",
     "output_type": "stream",
     "text": [
      "tensor(37, device='cuda:0')\n"
     ]
    }
   ],
   "source": [
    "print(outputs.end_logits.argmax())"
   ]
  },
  {
   "cell_type": "code",
   "execution_count": 23,
   "metadata": {},
   "outputs": [
    {
     "data": {
      "text/plain": [
       "'paris'"
      ]
     },
     "execution_count": 23,
     "metadata": {},
     "output_type": "execute_result"
    }
   ],
   "source": [
    "tokenizer.decode(inputs['input_ids'].squeeze()[outputs.start_logits.argmax():outputs.end_logits.argmax()+1])"
   ]
  },
  {
   "cell_type": "code",
   "execution_count": null,
   "metadata": {},
   "outputs": [],
   "source": []
  }
 ],
 "metadata": {
  "kernelspec": {
   "display_name": "food-env",
   "language": "python",
   "name": "python3"
  },
  "language_info": {
   "codemirror_mode": {
    "name": "ipython",
    "version": 3
   },
   "file_extension": ".py",
   "mimetype": "text/x-python",
   "name": "python",
   "nbconvert_exporter": "python",
   "pygments_lexer": "ipython3",
   "version": "3.8.10"
  }
 },
 "nbformat": 4,
 "nbformat_minor": 2
}
