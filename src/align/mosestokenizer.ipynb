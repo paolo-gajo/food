{
 "cells": [
  {
   "cell_type": "code",
   "execution_count": 3,
   "metadata": {},
   "outputs": [
    {
     "name": "stderr",
     "output_type": "stream",
     "text": [
      "ic| text_tokenized: []\n",
      "ic| text_detokenized: ''\n"
     ]
    },
    {
     "data": {
      "text/plain": [
       "''"
      ]
     },
     "execution_count": 3,
     "metadata": {},
     "output_type": "execute_result"
    }
   ],
   "source": [
    "from sacremoses import MosesTokenizer, MosesDetokenizer\n",
    "from icecream import ic\n",
    "tokenizer = MosesTokenizer('en')\n",
    "detokenizer = MosesDetokenizer('en')\n",
    "text = ' '\n",
    "text_tokenized = tokenizer.tokenize(text)\n",
    "ic(text_tokenized)\n",
    "text_detokenized = detokenizer.detokenize(text_tokenized)\n",
    "ic(text_detokenized)"
   ]
  }
 ],
 "metadata": {
  "kernelspec": {
   "display_name": "food",
   "language": "python",
   "name": "python3"
  },
  "language_info": {
   "codemirror_mode": {
    "name": "ipython",
    "version": 3
   },
   "file_extension": ".py",
   "mimetype": "text/x-python",
   "name": "python",
   "nbconvert_exporter": "python",
   "pygments_lexer": "ipython3",
   "version": "3.8.18"
  }
 },
 "nbformat": 4,
 "nbformat_minor": 2
}
