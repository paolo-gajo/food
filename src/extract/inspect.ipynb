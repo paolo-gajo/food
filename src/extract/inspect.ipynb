{
 "cells": [
  {
   "cell_type": "code",
   "execution_count": 1,
   "metadata": {},
   "outputs": [],
   "source": [
    "import pandas as pd\n",
    "json_path = '/home/pgajo/food/src/extract/mycolombianrecipes.json'\n",
    "df = pd.read_json(json_path)\n",
    "# df.to_json(json_path.replace('.json', '_fixed.json'), orient='records')\n",
    "df.to_json(json_path.replace('.json', '.jsonl'), orient='records' , lines = True)"
   ]
  }
 ],
 "metadata": {
  "kernelspec": {
   "display_name": "food",
   "language": "python",
   "name": "python3"
  },
  "language_info": {
   "codemirror_mode": {
    "name": "ipython",
    "version": 3
   },
   "file_extension": ".py",
   "mimetype": "text/x-python",
   "name": "python",
   "nbconvert_exporter": "python",
   "pygments_lexer": "ipython3",
   "version": "3.8.18"
  }
 },
 "nbformat": 4,
 "nbformat_minor": 2
}
