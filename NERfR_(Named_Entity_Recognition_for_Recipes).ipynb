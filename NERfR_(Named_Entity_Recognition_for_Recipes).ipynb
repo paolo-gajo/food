{
  "cells": [
    {
      "cell_type": "markdown",
      "metadata": {
        "id": "rj7uA0qGZIHH"
      },
      "source": [
        "# NERfR (Named Entity Recognition for Recipes)\n",
        "\n",
        "Using TASTEset, SpaCy, and recipes_scrapers"
      ]
    },
    {
      "cell_type": "markdown",
      "metadata": {
        "id": "ysByC8eoUBWK"
      },
      "source": [
        "## Installations and Imports"
      ]
    },
    {
      "cell_type": "code",
      "execution_count": null,
      "metadata": {
        "colab": {
          "base_uri": "https://localhost:8080/"
        },
        "id": "I-LzPb6QhOFD",
        "outputId": "9d39bf52-6a5b-4623-e346-0909122ad7a2"
      },
      "outputs": [],
      "source": [
        "%cd TASTEset\n",
        "\n",
        "import spacy\n",
        "from src.utils import prepare_data, ENTITIES"
      ]
    },
    {
      "cell_type": "markdown",
      "metadata": {
        "id": "rQlUpUujaXaS"
      },
      "source": [
        "## Data Preparation"
      ]
    },
    {
      "cell_type": "markdown",
      "metadata": {
        "id": "pb--YHexUWbh"
      },
      "source": [
        "## Using the TASTEset Utilities\n",
        "\n",
        "Fortunately, this repo comes with helper functions that do a good deal of the data preparation. If you want to have a better look at what's happening, check out the `src/utils.py` file, or the raw data `.csv` file in `data/TASTEset.csv`.\n",
        "\n",
        "The utility function we'll be using is `prepare_data`, which outputs:\n",
        "1. `recipes: list[str]`: a list of the plain text recipes, and\n",
        "2. `entities: list[list[tuple[int, int, str]]]`: Is that typehint hard to read? It's a list, where each item contains the entity labels of the recipe in `recipes` at the corresponsing index. One *entity* is formatted as a `tuple` containing the start index, end index, and label for the given entity. I'll illustrate that more clearly below."
      ]
    },
    {
      "cell_type": "code",
      "execution_count": null,
      "metadata": {
        "colab": {
          "base_uri": "https://localhost:8080/",
          "height": 35
        },
        "id": "cFqTEHGkjYK-",
        "outputId": "1e8cfa28-99b2-47d6-c25f-83fa4a050e05"
      },
      "outputs": [],
      "source": [
        "recipes, entities = prepare_data(\"data/TASTEset.csv\")\n",
        "\n",
        "# Here's the first recipe in our dataset\n",
        "recipes[:3]"
      ]
    },
    {
      "cell_type": "code",
      "execution_count": null,
      "metadata": {
        "colab": {
          "base_uri": "https://localhost:8080/"
        },
        "id": "prbEZItDgv9q",
        "outputId": "07a471cb-d0bd-4377-db72-28558252603d"
      },
      "outputs": [],
      "source": [
        "# Let's also have a look at the set of entities/classes\n",
        "ENTITIES"
      ]
    },
    {
      "cell_type": "code",
      "execution_count": null,
      "metadata": {
        "colab": {
          "base_uri": "https://localhost:8080/"
        },
        "id": "tM4UxIbYWM-W",
        "outputId": "a0e5ca9b-7ab7-4396-db97-f29962c9b42b"
      },
      "outputs": [],
      "source": [
        "# Let's check out the entity labels for that first recipe\n",
        "entities[0]"
      ]
    },
    {
      "cell_type": "code",
      "execution_count": null,
      "metadata": {
        "colab": {
          "base_uri": "https://localhost:8080/"
        },
        "id": "45QRq0e_Zx1t",
        "outputId": "a8fa54e9-732b-46d0-9315-1ed9ca9ca3b7"
      },
      "outputs": [],
      "source": [
        "# So, for example, if we want to grab each entity from the first recipe and\n",
        "# it's corresponding label\n",
        "\n",
        "[f\"{recipes[0][start:end]}: {ent}\" for start, end, ent in entities[0]]"
      ]
    },
    {
      "cell_type": "markdown",
      "metadata": {
        "id": "87hPC45mU4CN"
      },
      "source": [
        "### Prepping the code for spaCy\n",
        "\n",
        "We're going to be following [the pipeline training tutorial from spaCy's documentation](https://spacy.io/usage/training). I'll give you a quick explanation if I deviate from the docs or make any calls of my own."
      ]
    },
    {
      "cell_type": "markdown",
      "metadata": {
        "id": "AHyRFURdcXYr"
      },
      "source": [
        "For formatting, we'll need  things:\n",
        "\n",
        "1. `annotations`, which is a list of `dict`s shaped as follows:\n",
        "```\n",
        "{\n",
        "  'text': list[str],\n",
        "  'entities': list[tuple[int, int, str]]\n",
        "}\n",
        "```\n",
        "`text` is the recipes. Here I joined them at the newline character, since that's how the authors went about it in their training script.\n",
        "`entities` is just the list of entities for the recipe in `text`.\n",
        "2. `classes`, which is the flat list of possible entities."
      ]
    },
    {
      "cell_type": "code",
      "execution_count": null,
      "metadata": {
        "id": "islAtdCPtjLs"
      },
      "outputs": [],
      "source": [
        "annotations = [{'text': ' '.join(recipe.splitlines()), 'entities': ents} for recipe, ents in zip(recipes, entities)]\n",
        "training_data = {'classes': ENTITIES, 'annotations': annotations}"
      ]
    },
    {
      "cell_type": "code",
      "execution_count": null,
      "metadata": {
        "id": "E2UHaCcw_cKi"
      },
      "outputs": [],
      "source": [
        "# This is taken more-or-less verbatim from the docs:\n",
        "# https://spacy.io/usage/training#training-data\n",
        "from spacy.tokens import DocBin\n",
        "\n",
        "nlp = spacy.blank(\"en\")\n",
        "\n",
        "def doc_from_annotations(annotations):\n",
        "\n",
        "  doc_bin = DocBin()\n",
        "\n",
        "  for example in annotations:\n",
        "    doc = nlp.make_doc(example['text'])\n",
        "    ents = []\n",
        "    for entity in example['entities']:\n",
        "      span = doc.char_span(*entity)\n",
        "      ents.append(span)\n",
        "\n",
        "    doc.ents = ents\n",
        "    doc_bin.add(doc)\n",
        "  return doc_bin"
      ]
    },
    {
      "cell_type": "markdown",
      "metadata": {
        "id": "JzpaysQXcD8v"
      },
      "source": [
        "The train/test split is pretty project specific. I went with an 80/20 split for training/testing data. I'll say that anecdotally, it seems like the de-facto standard, and I was happy with the results."
      ]
    },
    {
      "cell_type": "code",
      "execution_count": null,
      "metadata": {
        "colab": {
          "base_uri": "https://localhost:8080/"
        },
        "id": "ykCTLEbDHB3w",
        "outputId": "6ff59504-1945-434b-bd61-078c607349ae"
      },
      "outputs": [],
      "source": [
        "# Let's get ourselves an 80/20 split.\n",
        "train_len = int(0.8*len(annotations))\n",
        "train_len"
      ]
    },
    {
      "cell_type": "markdown",
      "metadata": {
        "id": "pEcYAevoewBq"
      },
      "source": [
        "We're saving the training data as `.spacy` files to the main directory. Feel free to move this around to fit your purposes."
      ]
    },
    {
      "cell_type": "code",
      "execution_count": null,
      "metadata": {
        "colab": {
          "base_uri": "https://localhost:8080/"
        },
        "id": "cWWA0fulHTK5",
        "outputId": "e2cd1a1c-37e9-484a-af68-32842d520c3b"
      },
      "outputs": [],
      "source": [
        "train_bin = doc_from_annotations(annotations[:train_len])\n",
        "dev_bin = doc_from_annotations(annotations[train_len:])\n",
        "\n",
        "train_bin.to_disk(\"nerfr_train.spacy\")\n",
        "dev_bin.to_disk(\"nerfr_dev.spacy\")"
      ]
    },
    {
      "cell_type": "markdown",
      "metadata": {
        "id": "vVt_zb6PdzM2"
      },
      "source": [
        "### Training Config\n",
        "Again, this is swiped from [the docs](https://spacy.io/usage/training#quickstart). The tutorial has you save the config as a text file with a `.cfg` extension. Here are the parameters I went with:\n",
        "\n",
        "![trainig_config.png](data:image/png;base64,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)\n",
        "\n",
        "I copy/pasted the generated config below. Note that I also added the paths to the train and test datasets on lines 2 and 3. You'll want to adjust that as needed."
      ]
    },
    {
      "cell_type": "code",
      "execution_count": null,
      "metadata": {},
      "outputs": [],
      "source": [
        "BASE_CONFIG_TRANFORMER = \"\"\"\n",
        "# This is an auto-generated partial config. To use it with 'spacy train'\n",
        "# you can run spacy init fill-config to auto-fill all default settings:\n",
        "# python -m spacy init fill-config ./base_config.cfg ./config.cfg\n",
        "[paths]\n",
        "train = nerfr_train.spacy\n",
        "dev = nerfr_dev.spacy\n",
        "vectors = null\n",
        "[system]\n",
        "gpu_allocator = \"pytorch\"\n",
        "\n",
        "[nlp]\n",
        "lang = \"en\"\n",
        "pipeline = [\"transformer\",\"ner\"]\n",
        "batch_size = 128\n",
        "\n",
        "[components]\n",
        "\n",
        "[components.transformer]\n",
        "factory = \"transformer\"\n",
        "\n",
        "[components.transformer.model]\n",
        "@architectures = \"spacy-transformers.TransformerModel.v3\"\n",
        "name = \"roberta-base\"\n",
        "tokenizer_config = {\"use_fast\": true}\n",
        "\n",
        "[components.transformer.model.get_spans]\n",
        "@span_getters = \"spacy-transformers.strided_spans.v1\"\n",
        "window = 128\n",
        "stride = 96\n",
        "\n",
        "[components.ner]\n",
        "factory = \"ner\"\n",
        "\n",
        "[components.ner.model]\n",
        "@architectures = \"spacy.TransitionBasedParser.v2\"\n",
        "state_type = \"ner\"\n",
        "extra_state_tokens = false\n",
        "hidden_width = 64\n",
        "maxout_pieces = 2\n",
        "use_upper = false\n",
        "nO = null\n",
        "\n",
        "[components.ner.model.tok2vec]\n",
        "@architectures = \"spacy-transformers.TransformerListener.v1\"\n",
        "grad_factor = 1.0\n",
        "\n",
        "[components.ner.model.tok2vec.pooling]\n",
        "@layers = \"reduce_mean.v1\"\n",
        "\n",
        "[corpora]\n",
        "\n",
        "[corpora.train]\n",
        "@readers = \"spacy.Corpus.v1\"\n",
        "path = ${paths.train}\n",
        "max_length = 0\n",
        "\n",
        "[corpora.dev]\n",
        "@readers = \"spacy.Corpus.v1\"\n",
        "path = ${paths.dev}\n",
        "max_length = 0\n",
        "\n",
        "[training]\n",
        "accumulate_gradient = 3\n",
        "dev_corpus = \"corpora.dev\"\n",
        "train_corpus = \"corpora.train\"\n",
        "\n",
        "[training.optimizer]\n",
        "@optimizers = \"Adam.v1\"\n",
        "\n",
        "[training.optimizer.learn_rate]\n",
        "@schedules = \"warmup_linear.v1\"\n",
        "warmup_steps = 250\n",
        "total_steps = 20000\n",
        "initial_rate = 5e-5\n",
        "\n",
        "[training.batcher]\n",
        "@batchers = \"spacy.batch_by_padded.v1\"\n",
        "discard_oversize = true\n",
        "size = 2000\n",
        "buffer = 256\n",
        "\n",
        "[initialize]\n",
        "vectors = ${paths.vectors}\"\"\"\n",
        "with open(\"base_config_transformer.cfg\", 'w') as f:\n",
        "  f.write(BASE_CONFIG_TRANFORMER)"
      ]
    },
    {
      "cell_type": "code",
      "execution_count": null,
      "metadata": {
        "id": "8Wfqu1O9fEtl"
      },
      "outputs": [],
      "source": [
        "# Base config for efficiency optimization\n",
        "\n",
        "# This is an auto-generated partial config. To use it with 'spacy train'\n",
        "# you can run spacy init fill-config to auto-fill all default settings:\n",
        "# python -m spacy init fill-config ./base_config.cfg ./config.cfg\n",
        "BASE_CONFIG = \"\"\"\n",
        "[paths]\n",
        "train = nerfr_train.spacy\n",
        "dev = nerfr_dev.spacy\n",
        "vectors = null\n",
        "[system]\n",
        "gpu_allocator = null\n",
        "\n",
        "[nlp]\n",
        "lang = \"en\"\n",
        "pipeline = [\"tok2vec\",\"ner\"]\n",
        "batch_size = 1000\n",
        "\n",
        "[components]\n",
        "\n",
        "[components.tok2vec]\n",
        "factory = \"tok2vec\"\n",
        "\n",
        "[components.tok2vec.model]\n",
        "@architectures = \"spacy.Tok2Vec.v2\"\n",
        "\n",
        "[components.tok2vec.model.embed]\n",
        "@architectures = \"spacy.MultiHashEmbed.v2\"\n",
        "width = ${components.tok2vec.model.encode.width}\n",
        "attrs = [\"NORM\", \"PREFIX\", \"SUFFIX\", \"SHAPE\"]\n",
        "rows = [5000, 1000, 2500, 2500]\n",
        "include_static_vectors = false\n",
        "\n",
        "[components.tok2vec.model.encode]\n",
        "@architectures = \"spacy.MaxoutWindowEncoder.v2\"\n",
        "width = 96\n",
        "depth = 4\n",
        "window_size = 1\n",
        "maxout_pieces = 3\n",
        "\n",
        "[components.ner]\n",
        "factory = \"ner\"\n",
        "\n",
        "[components.ner.model]\n",
        "@architectures = \"spacy.TransitionBasedParser.v2\"\n",
        "state_type = \"ner\"\n",
        "extra_state_tokens = false\n",
        "hidden_width = 64\n",
        "maxout_pieces = 2\n",
        "use_upper = true\n",
        "nO = null\n",
        "\n",
        "[components.ner.model.tok2vec]\n",
        "@architectures = \"spacy.Tok2VecListener.v1\"\n",
        "width = ${components.tok2vec.model.encode.width}\n",
        "\n",
        "[corpora]\n",
        "\n",
        "[corpora.train]\n",
        "@readers = \"spacy.Corpus.v1\"\n",
        "path = ${paths.train}\n",
        "max_length = 0\n",
        "\n",
        "[corpora.dev]\n",
        "@readers = \"spacy.Corpus.v1\"\n",
        "path = ${paths.dev}\n",
        "max_length = 0\n",
        "\n",
        "[training]\n",
        "dev_corpus = \"corpora.dev\"\n",
        "train_corpus = \"corpora.train\"\n",
        "\n",
        "[training.optimizer]\n",
        "@optimizers = \"Adam.v1\"\n",
        "\n",
        "[training.batcher]\n",
        "@batchers = \"spacy.batch_by_words.v1\"\n",
        "discard_oversize = false\n",
        "tolerance = 0.2\n",
        "\n",
        "[training.batcher.size]\n",
        "@schedules = \"compounding.v1\"\n",
        "start = 100\n",
        "stop = 1000\n",
        "compound = 1.001\n",
        "\n",
        "[initialize]\n",
        "vectors = ${paths.vectors}\n",
        "\"\"\"\n",
        "\n",
        "with open(\"base_config.cfg\", 'w') as f:\n",
        "  f.write(BASE_CONFIG)"
      ]
    },
    {
      "cell_type": "code",
      "execution_count": null,
      "metadata": {
        "colab": {
          "base_uri": "https://localhost:8080/"
        },
        "id": "e7HSLGd-Bx0e",
        "outputId": "c1dbe6a9-c220-427b-a19a-00529ab83310"
      },
      "outputs": [],
      "source": [
        "# This command fills in your config with from the base_config you generated. The\n",
        "# last argument is the name of your config. I used \"_eff\" for \"efficiency\". Feel\n",
        "# free to change that\n",
        "!python -m spacy init fill-config /home/pgajo/working/food/TASTEset/base_config_transformer.cfg config_transformer_eff.cfg"
      ]
    },
    {
      "cell_type": "markdown",
      "metadata": {
        "id": "xcdUi-uag79A"
      },
      "source": [
        "## Training\n",
        "\n",
        "Run the following code to train! Note that you'll have to change the path and name of the `.cfg` file as necessary. The last argument is a folder that'll contain your pipeline. Feel free to prefix it with a path to a more useful location. Also have some fun with the name!\n",
        "\n",
        "You'll get periodic updates with the `loss`, `F1`, `precision`, `recall` for the NER model over time. They also give you a `SCORE`, which is helpful when training multiple components, but in our case, the `SCORE` is just the `F1` score for the NER model."
      ]
    },
    {
      "cell_type": "code",
      "execution_count": null,
      "metadata": {},
      "outputs": [],
      "source": [
        "spacy.require_gpu()"
      ]
    },
    {
      "cell_type": "code",
      "execution_count": null,
      "metadata": {
        "colab": {
          "base_uri": "https://localhost:8080/"
        },
        "id": "TGK-9GucDUqQ",
        "outputId": "3c341506-f3ef-4b69-f8db-084b79bcdd4a"
      },
      "outputs": [],
      "source": [
        "!python -m spacy train /home/pgajo/working/food/TASTEset/config_transformer_eff.cfg --output output_eff -g 0"
      ]
    },
    {
      "cell_type": "markdown",
      "metadata": {
        "id": "Sp9fYB6CfZQR"
      },
      "source": [
        "## Results\n",
        "\n",
        "The training outputs a `meta.json` file in the output folder (`output_eff` in our case). We can use this to check a number of metrics, including the performance of each entity class."
      ]
    },
    {
      "cell_type": "code",
      "execution_count": 1,
      "metadata": {
        "id": "PckfQRDo4o8S"
      },
      "outputs": [],
      "source": [
        "import json\n",
        "import pandas as pd\n",
        "\n",
        "# grab the performance dict from within the meta file\n",
        "performance = json.load(open(\"/home/pgajo/working/food/TASTEset/output_eff/model-best/meta.json\", 'r'))['performance']\n",
        "performance_by_ent = performance['ents_per_type']"
      ]
    },
    {
      "cell_type": "code",
      "execution_count": 2,
      "metadata": {
        "colab": {
          "base_uri": "https://localhost:8080/",
          "height": 143
        },
        "id": "8GNwjLudfYzS",
        "outputId": "41058f56-211d-4498-da6c-06fcfb2c3205"
      },
      "outputs": [
        {
          "data": {
            "text/html": [
              "<style type=\"text/css\">\n",
              "#T_c8d11_row0_col0, #T_c8d11_row0_col1, #T_c8d11_row0_col2, #T_c8d11_row0_col3, #T_c8d11_row0_col4, #T_c8d11_row0_col5, #T_c8d11_row0_col6, #T_c8d11_row0_col7, #T_c8d11_row0_col8, #T_c8d11_row0_col9, #T_c8d11_row1_col0, #T_c8d11_row1_col1, #T_c8d11_row1_col2, #T_c8d11_row1_col3, #T_c8d11_row1_col4, #T_c8d11_row1_col5, #T_c8d11_row1_col6, #T_c8d11_row1_col7, #T_c8d11_row1_col8, #T_c8d11_row1_col9, #T_c8d11_row2_col0, #T_c8d11_row2_col1, #T_c8d11_row2_col2, #T_c8d11_row2_col3, #T_c8d11_row2_col4, #T_c8d11_row2_col5, #T_c8d11_row2_col6, #T_c8d11_row2_col7, #T_c8d11_row2_col8, #T_c8d11_row2_col9 {\n",
              "  background-color: #ffffe5;\n",
              "  color: #000000;\n",
              "}\n",
              "</style>\n",
              "<table id=\"T_c8d11\">\n",
              "  <thead>\n",
              "    <tr>\n",
              "      <th class=\"blank level0\" >&nbsp;</th>\n",
              "      <th id=\"T_c8d11_level0_col0\" class=\"col_heading level0 col0\" >FOOD</th>\n",
              "      <th id=\"T_c8d11_level0_col1\" class=\"col_heading level0 col1\" >PHYSICAL_QUALITY</th>\n",
              "      <th id=\"T_c8d11_level0_col2\" class=\"col_heading level0 col2\" >QUANTITY</th>\n",
              "      <th id=\"T_c8d11_level0_col3\" class=\"col_heading level0 col3\" >UNIT</th>\n",
              "      <th id=\"T_c8d11_level0_col4\" class=\"col_heading level0 col4\" >TASTE</th>\n",
              "      <th id=\"T_c8d11_level0_col5\" class=\"col_heading level0 col5\" >PART</th>\n",
              "      <th id=\"T_c8d11_level0_col6\" class=\"col_heading level0 col6\" >PROCESS</th>\n",
              "      <th id=\"T_c8d11_level0_col7\" class=\"col_heading level0 col7\" >COLOR</th>\n",
              "      <th id=\"T_c8d11_level0_col8\" class=\"col_heading level0 col8\" >PURPOSE</th>\n",
              "      <th id=\"T_c8d11_level0_col9\" class=\"col_heading level0 col9\" >TOTAL</th>\n",
              "    </tr>\n",
              "  </thead>\n",
              "  <tbody>\n",
              "    <tr>\n",
              "      <th id=\"T_c8d11_level0_row0\" class=\"row_heading level0 row0\" >p</th>\n",
              "      <td id=\"T_c8d11_row0_col0\" class=\"data row0 col0\" >0.000000</td>\n",
              "      <td id=\"T_c8d11_row0_col1\" class=\"data row0 col1\" >0.000000</td>\n",
              "      <td id=\"T_c8d11_row0_col2\" class=\"data row0 col2\" >0.000000</td>\n",
              "      <td id=\"T_c8d11_row0_col3\" class=\"data row0 col3\" >0.000000</td>\n",
              "      <td id=\"T_c8d11_row0_col4\" class=\"data row0 col4\" >0.000000</td>\n",
              "      <td id=\"T_c8d11_row0_col5\" class=\"data row0 col5\" >0.000000</td>\n",
              "      <td id=\"T_c8d11_row0_col6\" class=\"data row0 col6\" >0.000000</td>\n",
              "      <td id=\"T_c8d11_row0_col7\" class=\"data row0 col7\" >0.000000</td>\n",
              "      <td id=\"T_c8d11_row0_col8\" class=\"data row0 col8\" >0.000000</td>\n",
              "      <td id=\"T_c8d11_row0_col9\" class=\"data row0 col9\" >0.000000</td>\n",
              "    </tr>\n",
              "    <tr>\n",
              "      <th id=\"T_c8d11_level0_row1\" class=\"row_heading level0 row1\" >r</th>\n",
              "      <td id=\"T_c8d11_row1_col0\" class=\"data row1 col0\" >0.000000</td>\n",
              "      <td id=\"T_c8d11_row1_col1\" class=\"data row1 col1\" >0.000000</td>\n",
              "      <td id=\"T_c8d11_row1_col2\" class=\"data row1 col2\" >0.000000</td>\n",
              "      <td id=\"T_c8d11_row1_col3\" class=\"data row1 col3\" >0.000000</td>\n",
              "      <td id=\"T_c8d11_row1_col4\" class=\"data row1 col4\" >0.000000</td>\n",
              "      <td id=\"T_c8d11_row1_col5\" class=\"data row1 col5\" >0.000000</td>\n",
              "      <td id=\"T_c8d11_row1_col6\" class=\"data row1 col6\" >0.000000</td>\n",
              "      <td id=\"T_c8d11_row1_col7\" class=\"data row1 col7\" >0.000000</td>\n",
              "      <td id=\"T_c8d11_row1_col8\" class=\"data row1 col8\" >0.000000</td>\n",
              "      <td id=\"T_c8d11_row1_col9\" class=\"data row1 col9\" >0.000000</td>\n",
              "    </tr>\n",
              "    <tr>\n",
              "      <th id=\"T_c8d11_level0_row2\" class=\"row_heading level0 row2\" >f</th>\n",
              "      <td id=\"T_c8d11_row2_col0\" class=\"data row2 col0\" >0.000000</td>\n",
              "      <td id=\"T_c8d11_row2_col1\" class=\"data row2 col1\" >0.000000</td>\n",
              "      <td id=\"T_c8d11_row2_col2\" class=\"data row2 col2\" >0.000000</td>\n",
              "      <td id=\"T_c8d11_row2_col3\" class=\"data row2 col3\" >0.000000</td>\n",
              "      <td id=\"T_c8d11_row2_col4\" class=\"data row2 col4\" >0.000000</td>\n",
              "      <td id=\"T_c8d11_row2_col5\" class=\"data row2 col5\" >0.000000</td>\n",
              "      <td id=\"T_c8d11_row2_col6\" class=\"data row2 col6\" >0.000000</td>\n",
              "      <td id=\"T_c8d11_row2_col7\" class=\"data row2 col7\" >0.000000</td>\n",
              "      <td id=\"T_c8d11_row2_col8\" class=\"data row2 col8\" >0.000000</td>\n",
              "      <td id=\"T_c8d11_row2_col9\" class=\"data row2 col9\" >0.000000</td>\n",
              "    </tr>\n",
              "  </tbody>\n",
              "</table>\n"
            ],
            "text/plain": [
              "<pandas.io.formats.style.Styler at 0x7f1588d82040>"
            ]
          },
          "execution_count": 2,
          "metadata": {},
          "output_type": "execute_result"
        }
      ],
      "source": [
        "perf_df = pd.DataFrame(performance_by_ent)\n",
        "perf_df[\"TOTAL\"] = [performance['ents_p'], performance['ents_r'], performance['ents_f']]\n",
        "\n",
        "# display df with the cell color corresponding to the value (dark=high; light=low)\n",
        "perf_df.style.background_gradient(\n",
        "    axis=1, low=perf_df.min().min(), high=1, cmap='YlOrBr'\n",
        "    )"
      ]
    },
    {
      "cell_type": "markdown",
      "metadata": {
        "id": "8lqB7YOzknk3"
      },
      "source": [
        "Here we've got the precision (p), recall (r), and F1 (f) score by entity. It seems like the best performing entities are the ones we care the most about. Only 40% of *PART* entities are being turned up. I can live with that."
      ]
    },
    {
      "cell_type": "markdown",
      "metadata": {
        "id": "EHzHar66xZG5"
      },
      "source": [
        "## Getting the Confusion Matrix\n",
        "\n",
        "We're going to be plotting a [confusion matrix](https://en.wikipedia.org/wiki/Confusion_matrix) on the same test set we used for training. At a high level, this entails running each sample through the trained model, and, for each token, storing the entity the model predicted for that token, as well as the ground truth entity (as labeled by the dataset authors)."
      ]
    },
    {
      "cell_type": "code",
      "execution_count": null,
      "metadata": {
        "id": "vrIleK5oxrHu"
      },
      "outputs": [],
      "source": [
        "# load the model and test set. Again, change the paths as required\n",
        "nlp = spacy.load('/content/output_eff/model-best')\n",
        "test_set = list(DocBin().from_disk(\"nerfr_dev.spacy\").get_docs(nlp.vocab))"
      ]
    },
    {
      "cell_type": "code",
      "execution_count": null,
      "metadata": {
        "id": "glbxDfxJB4h0"
      },
      "outputs": [],
      "source": [
        "pred_ents = []\n",
        "true_ents = []\n",
        "\n",
        "for recipe in test_set:\n",
        "  # tok.ent_type_ gets the ent per token, as opposed to breaking the Doc into\n",
        "  # entities. This ensures that `true_ents` and `pred_ents` are the same length.\n",
        "  true_ents += [tok.ent_type_ for tok in recipe]\n",
        "  # `recipe.text` grabs the raw recipe, because `recipe` already contains entity\n",
        "  # labels.\n",
        "  pred_ents += [tok.ent_type_ for tok in nlp(recipe.text)]"
      ]
    },
    {
      "cell_type": "code",
      "execution_count": null,
      "metadata": {
        "colab": {
          "base_uri": "https://localhost:8080/",
          "height": 363
        },
        "id": "DChFnKdSGqwV",
        "outputId": "4cab256d-9bb4-4811-f9f7-acd0e6ef856e"
      },
      "outputs": [],
      "source": [
        "%matplotlib inline\n",
        "from matplotlib import pyplot as plt\n",
        "import numpy as np\n",
        "from sklearn.metrics import confusion_matrix, ConfusionMatrixDisplay\n",
        "\n",
        "# create and display the confusion matrix\n",
        "cm = confusion_matrix(true_ents, pred_ents, labels=ENTITIES)\n",
        "disp = ConfusionMatrixDisplay(confusion_matrix=cm, display_labels=ENTITIES)\n",
        "\n",
        "disp.plot()\n",
        "plt.xticks(rotation=70)\n",
        "plt.show()"
      ]
    },
    {
      "cell_type": "markdown",
      "metadata": {
        "id": "IRNNbNy9-F7o"
      },
      "source": [
        "Unfortunately, there isn't quite enough data for the color mapping to show fine-grained differences. Nonetheless, we can get a sense for the more common mislabelings."
      ]
    },
    {
      "cell_type": "markdown",
      "metadata": {
        "id": "NCiKVxbf_x8y"
      },
      "source": [
        "## Inference\n",
        "\n",
        "Let's test this baby out!\n",
        "\n",
        "You'll notice I load the recipes as lists of ingredient lines and run each ingredient line through the pipeline separately, even though we trained the models on recipes\n",
        "I found it performed better this way, despite the formatting mismatch."
      ]
    },
    {
      "cell_type": "code",
      "execution_count": null,
      "metadata": {
        "colab": {
          "base_uri": "https://localhost:8080/"
        },
        "id": "X-VsLEqiljQU",
        "outputId": "250a7d4b-7863-4e9e-de6c-8dd127c311b9"
      },
      "outputs": [],
      "source": [
        "!pip install recipe-scrapers"
      ]
    },
    {
      "cell_type": "code",
      "execution_count": null,
      "metadata": {
        "colab": {
          "base_uri": "https://localhost:8080/"
        },
        "id": "N9THhIHxmGhI",
        "outputId": "235cd389-0c7b-4291-a4ce-33b9b26df59d"
      },
      "outputs": [],
      "source": [
        "from recipe_scrapers import scrape_me\n",
        "\n",
        "RECIPE_URL = \"https://www.allrecipes.com/recipe/246868/pecan-sour-cream-coffee-cake/\"\n",
        "scraper = scrape_me(RECIPE_URL)\n",
        "scraper.ingredients()"
      ]
    },
    {
      "cell_type": "markdown",
      "metadata": {
        "id": "dsxu4HGxWBpQ"
      },
      "source": [
        "### Text Pre-Processing Function\n",
        "\n",
        "Note the float representations of ingredient quantities, in spite of the fact that the website shows them in mixed numbers."
      ]
    },
    {
      "cell_type": "code",
      "execution_count": null,
      "metadata": {
        "id": "3ES2pKiK0NOE"
      },
      "outputs": [],
      "source": [
        "from fractions import Fraction\n",
        "import re\n",
        "\n",
        "\n",
        "def fraction_to_mixed_number(fraction: Fraction) -> str:\n",
        "  if fraction.numerator >= fraction.denominator:\n",
        "    whole, remainder = divmod(fraction.numerator, fraction.denominator)\n",
        "    if remainder == 0:\n",
        "      return str(whole)\n",
        "    else:\n",
        "      return f\"{whole} {Fraction(remainder, fraction.denominator)}\"\n",
        "  else:\n",
        "    return str(fraction)\n",
        "\n",
        "\n",
        "def convert_floats_to_fractions(text: str) -> str:\n",
        "    return re.sub(\n",
        "        r'\\b-?\\d+\\.\\d+\\b',\n",
        "        lambda match: fraction_to_mixed_number(\n",
        "            Fraction(float(match.group())).limit_denominator()), text\n",
        "        )\n",
        "\n",
        "\n",
        "def process_text(text):\n",
        "  \"\"\"\n",
        "  A wrapper function to pre-process text and run it through our pipeline.\n",
        "  \"\"\"\n",
        "  return nlp(convert_floats_to_fractions(text))"
      ]
    },
    {
      "cell_type": "code",
      "execution_count": null,
      "metadata": {
        "colab": {
          "base_uri": "https://localhost:8080/"
        },
        "id": "I1IbSIiFycKI",
        "outputId": "60fb0cff-4b40-4d7a-e6f1-719259aba42e"
      },
      "outputs": [],
      "source": [
        "# Let's have a look at our processing fucntion at work\n",
        "[convert_floats_to_fractions(line) for line in scraper.ingredients()]"
      ]
    },
    {
      "cell_type": "markdown",
      "metadata": {
        "id": "g6rbxA_fXPnE"
      },
      "source": [
        "### Running Inference with Processing"
      ]
    },
    {
      "cell_type": "code",
      "execution_count": null,
      "metadata": {
        "id": "hJHRbPaAXPBM"
      },
      "outputs": [],
      "source": [
        "# Load the model again for good measure\n",
        "nlp = spacy.load('/content/output_eff/model-best')\n",
        "\n",
        "from spacy import displacy"
      ]
    },
    {
      "cell_type": "code",
      "execution_count": null,
      "metadata": {
        "colab": {
          "base_uri": "https://localhost:8080/",
          "height": 542
        },
        "id": "D4S2cYLsXYAf",
        "outputId": "c9bfe379-9e4c-4238-9bbc-e9d653421872"
      },
      "outputs": [],
      "source": [
        "# process the recipe, line-by-line\n",
        "docs = [process_text(line) for line in scraper.ingredients()]\n",
        "\n",
        "displacy.render(docs, style=\"ent\", jupyter=True)"
      ]
    },
    {
      "cell_type": "code",
      "execution_count": null,
      "metadata": {
        "colab": {
          "base_uri": "https://localhost:8080/"
        },
        "id": "6BtYXGJoYQYu",
        "outputId": "2eb535fd-e7bb-45b8-c018-f54c06f03a66"
      },
      "outputs": [],
      "source": [
        "PREPPY_URL = 'https://preppykitchen.com/coffee-cake/'\n",
        "scraper = scrape_me(PREPPY_URL, wild_mode=True)\n",
        "scraper.ingredients()"
      ]
    },
    {
      "cell_type": "code",
      "execution_count": null,
      "metadata": {
        "colab": {
          "base_uri": "https://localhost:8080/",
          "height": 647
        },
        "id": "SZCdJhZmYwYx",
        "outputId": "28b22475-4967-4d9c-9a82-ffd33406cc68"
      },
      "outputs": [],
      "source": [
        "# process the recipe, line-by-line\n",
        "docs = [process_text(line) for line in scraper.ingredients()]\n",
        "\n",
        "displacy.render(docs, style=\"ent\", jupyter=True)"
      ]
    },
    {
      "cell_type": "markdown",
      "metadata": {
        "id": "3wobH-_BY4XW"
      },
      "source": [
        "And that's all folks! Feel free to use this code for your own purposes, and happy parsing!"
      ]
    }
  ],
  "metadata": {
    "colab": {
      "provenance": []
    },
    "kernelspec": {
      "display_name": "Python 3",
      "name": "python3"
    },
    "language_info": {
      "codemirror_mode": {
        "name": "ipython",
        "version": 3
      },
      "file_extension": ".py",
      "mimetype": "text/x-python",
      "name": "python",
      "nbconvert_exporter": "python",
      "pygments_lexer": "ipython3",
      "version": "3.8.10"
    }
  },
  "nbformat": 4,
  "nbformat_minor": 0
}
